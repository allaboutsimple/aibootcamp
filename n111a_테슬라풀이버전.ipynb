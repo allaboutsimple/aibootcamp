{
  "nbformat": 4,
  "nbformat_minor": 0,
  "metadata": {
    "colab": {
      "name": "n111a-테슬라풀이버전",
      "provenance": [],
      "collapsed_sections": [
        "en0Q_b5L4fxA"
      ],
      "include_colab_link": true
    },
    "kernelspec": {
      "name": "python3",
      "display_name": "Python 3"
    }
  },
  "cells": [
    {
      "cell_type": "markdown",
      "metadata": {
        "id": "view-in-github",
        "colab_type": "text"
      },
      "source": [
        "<a href=\"https://colab.research.google.com/github/allaboutsimple/aibootcamp/blob/main/n111a_%ED%85%8C%EC%8A%AC%EB%9D%BC%ED%92%80%EC%9D%B4%EB%B2%84%EC%A0%84.ipynb\" target=\"_parent\"><img src=\"https://colab.research.google.com/assets/colab-badge.svg\" alt=\"Open In Colab\"/></a>"
      ]
    },
    {
      "cell_type": "markdown",
      "metadata": {
        "id": "MSnsTgZLKO72"
      },
      "source": [
        "<img src='https://i.imgur.com/RDAD11M.png' width = '200' align = 'right'>\n",
        "\n",
        "## *DATA SCIENCE / SECTION 1 / SPRINT 1 / NOTE 1*\n",
        "\n",
        "---\n",
        "\n",
        "# 📝 Assignment\n",
        "\n"
      ]
    },
    {
      "cell_type": "markdown",
      "metadata": {
        "id": "qoR8E-T2TYPd"
      },
      "source": [
        "## 1.데이터셋 불러오기 연습\n",
        "\n",
        "다음 url에서 엑셀 파일을 불러오세요. (pandas excel)\n",
        "\n",
        "<https://ds-lecture-data.s3.ap-northeast-2.amazonaws.com/stocks/Travel.xlsx>\n",
        "\n",
        "  - 데이터셋 변수의 이름은 `df1`, `df2`로 저장하세요.\n",
        "  - row가 아닌 column에 '매출액', '영업이익' 이 가도록 데이터를 transpose 하세요.\n",
        "  - 이후 아래 링크를 참조하여 첫번째 row를 column name으로 설정하세요.\n",
        "\n",
        "<https://stackoverflow.com/questions/31328861/python-pandas-replacing-header-with-top-row>\n",
        "\n",
        "- 파일은 2개의 시트로 구성되어 있으며 각각 이름은 `008770`, `035250` 입니다.\n",
        "\n"
      ]
    },
    {
      "cell_type": "code",
      "metadata": {
        "id": "uvvuxCjGHbf2"
      },
      "source": [
        "import pandas as pd\n",
        "url='https://ds-lecture-data.s3.ap-northeast-2.amazonaws.com/stocks/Travel.xlsx'\n",
        "\n",
        "#데이터셋 변수의 이름은 `df1`, `df2`로 저장하세요.\n",
        "#row가 아닌 column에 '매출액', '영업이익' 이 가도록 데이터를 transpose 하세요.\n",
        "df1 = pd.read_excel(url, sheet_name='008770 ').T\n",
        "df2 = pd.read_excel(url, sheet_name='035250').T\n",
        "\n",
        "#이후 아래 링크를 참조하여 첫번째 row를 column name으로 설정하세요.\n",
        "df1 = df1.rename(columns=df1.iloc[0]).drop(df1.index[0])\n",
        "df2 = df2.rename(columns=df2.iloc[0]).drop(df2.index[0])"
      ],
      "execution_count": 3,
      "outputs": []
    },
    {
      "cell_type": "code",
      "metadata": {
        "colab": {
          "base_uri": "https://localhost:8080/",
          "height": 430
        },
        "id": "bLIVEbw0ZHeV",
        "outputId": "21f726ed-10eb-462f-c62a-7088ccd9a855"
      },
      "source": [
        "df1.head()"
      ],
      "execution_count": 4,
      "outputs": [
        {
          "output_type": "execute_result",
          "data": {
            "text/html": [
              "<div>\n",
              "<style scoped>\n",
              "    .dataframe tbody tr th:only-of-type {\n",
              "        vertical-align: middle;\n",
              "    }\n",
              "\n",
              "    .dataframe tbody tr th {\n",
              "        vertical-align: top;\n",
              "    }\n",
              "\n",
              "    .dataframe thead th {\n",
              "        text-align: right;\n",
              "    }\n",
              "</style>\n",
              "<table border=\"1\" class=\"dataframe\">\n",
              "  <thead>\n",
              "    <tr style=\"text-align: right;\">\n",
              "      <th></th>\n",
              "      <th>매출액</th>\n",
              "      <th>영업이익</th>\n",
              "      <th>영업이익(발표기준)</th>\n",
              "      <th>세전계속사업이익</th>\n",
              "      <th>당기순이익</th>\n",
              "      <th>당기순이익(지배)</th>\n",
              "      <th>당기순이익(비지배)</th>\n",
              "      <th>자산총계</th>\n",
              "      <th>부채총계</th>\n",
              "      <th>자본총계</th>\n",
              "      <th>자본총계(지배)</th>\n",
              "      <th>자본총계(비지배)</th>\n",
              "      <th>자본금</th>\n",
              "      <th>영업활동현금흐름</th>\n",
              "      <th>투자활동현금흐름</th>\n",
              "      <th>재무활동현금흐름</th>\n",
              "      <th>CAPEX</th>\n",
              "      <th>FCF</th>\n",
              "      <th>이자발생부채</th>\n",
              "      <th>영업이익률</th>\n",
              "      <th>순이익률</th>\n",
              "      <th>ROE(%)</th>\n",
              "      <th>ROA(%)</th>\n",
              "      <th>부채비율</th>\n",
              "      <th>자본유보율</th>\n",
              "      <th>EPS(원)</th>\n",
              "      <th>PER(배)</th>\n",
              "      <th>BPS(원)</th>\n",
              "      <th>PBR(배)</th>\n",
              "      <th>현금DPS(원)</th>\n",
              "      <th>현금배당수익률</th>\n",
              "      <th>현금배당성향(%)</th>\n",
              "    </tr>\n",
              "  </thead>\n",
              "  <tbody>\n",
              "    <tr>\n",
              "      <th>2019/09\\n(IFRS연결)</th>\n",
              "      <td>14753</td>\n",
              "      <td>574</td>\n",
              "      <td>574</td>\n",
              "      <td>376</td>\n",
              "      <td>274</td>\n",
              "      <td>277</td>\n",
              "      <td>-3</td>\n",
              "      <td>37747</td>\n",
              "      <td>28854</td>\n",
              "      <td>8893</td>\n",
              "      <td>8889</td>\n",
              "      <td>4</td>\n",
              "      <td>2000</td>\n",
              "      <td>1652</td>\n",
              "      <td>-284</td>\n",
              "      <td>-900</td>\n",
              "      <td>159</td>\n",
              "      <td>1493</td>\n",
              "      <td>19035</td>\n",
              "      <td>3.89</td>\n",
              "      <td>1.86</td>\n",
              "      <td>13.18</td>\n",
              "      <td>3.62</td>\n",
              "      <td>324.45</td>\n",
              "      <td>395.1</td>\n",
              "      <td>692</td>\n",
              "      <td>31.19</td>\n",
              "      <td>23484</td>\n",
              "      <td>3.67</td>\n",
              "      <td>0</td>\n",
              "      <td>NaN</td>\n",
              "      <td>0</td>\n",
              "    </tr>\n",
              "    <tr>\n",
              "      <th>2019/12\\n(IFRS연결)</th>\n",
              "      <td>15440</td>\n",
              "      <td>776</td>\n",
              "      <td>776</td>\n",
              "      <td>538</td>\n",
              "      <td>380</td>\n",
              "      <td>380</td>\n",
              "      <td>0</td>\n",
              "      <td>35273</td>\n",
              "      <td>26077</td>\n",
              "      <td>9195</td>\n",
              "      <td>9192</td>\n",
              "      <td>4</td>\n",
              "      <td>2000</td>\n",
              "      <td>-480</td>\n",
              "      <td>-208</td>\n",
              "      <td>1230</td>\n",
              "      <td>109</td>\n",
              "      <td>-589</td>\n",
              "      <td>15615</td>\n",
              "      <td>5.03</td>\n",
              "      <td>2.46</td>\n",
              "      <td>20.16</td>\n",
              "      <td>5.81</td>\n",
              "      <td>283.59</td>\n",
              "      <td>411.78</td>\n",
              "      <td>950</td>\n",
              "      <td>21.4</td>\n",
              "      <td>24282</td>\n",
              "      <td>3.74</td>\n",
              "      <td>350</td>\n",
              "      <td>NaN</td>\n",
              "      <td>34.94</td>\n",
              "    </tr>\n",
              "    <tr>\n",
              "      <th>2020/03\\n(IFRS연결)</th>\n",
              "      <td>9437</td>\n",
              "      <td>-668</td>\n",
              "      <td>-668</td>\n",
              "      <td>-925</td>\n",
              "      <td>-736</td>\n",
              "      <td>-736</td>\n",
              "      <td>0</td>\n",
              "      <td>33188</td>\n",
              "      <td>24813</td>\n",
              "      <td>8375</td>\n",
              "      <td>8371</td>\n",
              "      <td>4</td>\n",
              "      <td>2000</td>\n",
              "      <td>-4525</td>\n",
              "      <td>-237</td>\n",
              "      <td>1288</td>\n",
              "      <td>155</td>\n",
              "      <td>-4680</td>\n",
              "      <td>17505</td>\n",
              "      <td>-7.08</td>\n",
              "      <td>-7.8</td>\n",
              "      <td>5.39</td>\n",
              "      <td>1.25</td>\n",
              "      <td>296.28</td>\n",
              "      <td>368.36</td>\n",
              "      <td>-1839</td>\n",
              "      <td>63.76</td>\n",
              "      <td>22114</td>\n",
              "      <td>3.19</td>\n",
              "      <td>NaN</td>\n",
              "      <td>NaN</td>\n",
              "      <td>0</td>\n",
              "    </tr>\n",
              "    <tr>\n",
              "      <th>2020/06\\n(IFRS연결)</th>\n",
              "      <td>5230</td>\n",
              "      <td>-634</td>\n",
              "      <td>-634</td>\n",
              "      <td>-819</td>\n",
              "      <td>-677</td>\n",
              "      <td>-678</td>\n",
              "      <td>1</td>\n",
              "      <td>33039</td>\n",
              "      <td>25364</td>\n",
              "      <td>7676</td>\n",
              "      <td>7671</td>\n",
              "      <td>5</td>\n",
              "      <td>2000</td>\n",
              "      <td>879</td>\n",
              "      <td>-856</td>\n",
              "      <td>448</td>\n",
              "      <td>90</td>\n",
              "      <td>789</td>\n",
              "      <td>18933</td>\n",
              "      <td>-12.13</td>\n",
              "      <td>-12.95</td>\n",
              "      <td>-9.31</td>\n",
              "      <td>-2.14</td>\n",
              "      <td>330.45</td>\n",
              "      <td>334.46</td>\n",
              "      <td>-1695</td>\n",
              "      <td>NaN</td>\n",
              "      <td>20265</td>\n",
              "      <td>3.5</td>\n",
              "      <td>NaN</td>\n",
              "      <td>NaN</td>\n",
              "      <td>0</td>\n",
              "    </tr>\n",
              "    <tr>\n",
              "      <th>2020/09\\n(IFRS연결)</th>\n",
              "      <td>8795</td>\n",
              "      <td>-198</td>\n",
              "      <td>-198</td>\n",
              "      <td>-366</td>\n",
              "      <td>-285</td>\n",
              "      <td>-285</td>\n",
              "      <td>0</td>\n",
              "      <td>32683</td>\n",
              "      <td>25318</td>\n",
              "      <td>7365</td>\n",
              "      <td>7360</td>\n",
              "      <td>5</td>\n",
              "      <td>2000</td>\n",
              "      <td>3104</td>\n",
              "      <td>-1388</td>\n",
              "      <td>-882</td>\n",
              "      <td>129</td>\n",
              "      <td>2975</td>\n",
              "      <td>17755</td>\n",
              "      <td>-2.25</td>\n",
              "      <td>-3.24</td>\n",
              "      <td>-16.22</td>\n",
              "      <td>-3.74</td>\n",
              "      <td>343.77</td>\n",
              "      <td>320.21</td>\n",
              "      <td>-712</td>\n",
              "      <td>NaN</td>\n",
              "      <td>19444</td>\n",
              "      <td>3.91</td>\n",
              "      <td>NaN</td>\n",
              "      <td>NaN</td>\n",
              "      <td>NaN</td>\n",
              "    </tr>\n",
              "  </tbody>\n",
              "</table>\n",
              "</div>"
            ],
            "text/plain": [
              "                     매출액 영업이익 영업이익(발표기준)  ... 현금DPS(원) 현금배당수익률 현금배당성향(%)\n",
              "2019/09\\n(IFRS연결)  14753  574        574  ...        0     NaN         0\n",
              "2019/12\\n(IFRS연결)  15440  776        776  ...      350     NaN     34.94\n",
              "2020/03\\n(IFRS연결)   9437 -668       -668  ...      NaN     NaN         0\n",
              "2020/06\\n(IFRS연결)   5230 -634       -634  ...      NaN     NaN         0\n",
              "2020/09\\n(IFRS연결)   8795 -198       -198  ...      NaN     NaN       NaN\n",
              "\n",
              "[5 rows x 32 columns]"
            ]
          },
          "metadata": {
            "tags": []
          },
          "execution_count": 4
        }
      ]
    },
    {
      "cell_type": "code",
      "metadata": {
        "colab": {
          "base_uri": "https://localhost:8080/"
        },
        "id": "lxHvw5NxVRFO",
        "outputId": "1257a251-c29d-42f0-9b03-5cd42290c2da"
      },
      "source": [
        "# 설치\n",
        "!sudo apt-get install -y fonts-nanum\n",
        "!sudo fc-cache -fv\n",
        "!rm ~/.cache/matplotlib -rf"
      ],
      "execution_count": 5,
      "outputs": [
        {
          "output_type": "stream",
          "text": [
            "Reading package lists... Done\n",
            "Building dependency tree       \n",
            "Reading state information... Done\n",
            "fonts-nanum is already the newest version (20170925-1).\n",
            "The following package was automatically installed and is no longer required:\n",
            "  libnvidia-common-460\n",
            "Use 'sudo apt autoremove' to remove it.\n",
            "0 upgraded, 0 newly installed, 0 to remove and 34 not upgraded.\n",
            "/usr/share/fonts: caching, new cache contents: 0 fonts, 1 dirs\n",
            "/usr/share/fonts/truetype: caching, new cache contents: 0 fonts, 3 dirs\n",
            "/usr/share/fonts/truetype/humor-sans: caching, new cache contents: 1 fonts, 0 dirs\n",
            "/usr/share/fonts/truetype/liberation: caching, new cache contents: 16 fonts, 0 dirs\n",
            "/usr/share/fonts/truetype/nanum: caching, new cache contents: 10 fonts, 0 dirs\n",
            "/usr/local/share/fonts: caching, new cache contents: 0 fonts, 0 dirs\n",
            "/root/.local/share/fonts: skipping, no such directory\n",
            "/root/.fonts: skipping, no such directory\n",
            "/var/cache/fontconfig: cleaning cache directory\n",
            "/root/.cache/fontconfig: not cleaning non-existent cache directory\n",
            "/root/.fontconfig: not cleaning non-existent cache directory\n",
            "fc-cache: succeeded\n"
          ],
          "name": "stdout"
        }
      ]
    },
    {
      "cell_type": "markdown",
      "metadata": {
        "id": "156P6ndeKojO"
      },
      "source": [
        "## 2. 데이터 확인\n",
        "\n",
        "- 데이터의 dimension을 확인하세요.\n",
        "- 데이터의 결측치가 어디에 있는지 확인 후 0으로 대체하세요.\n",
        "- 각 데이터 별로 **FCF**의 값을 barplot으로 시각화하세요.\n",
        "  - 0보다 큰값, 작은값의 수의 총합을 `num1`, `num2`에 저장하세요\n"
      ]
    },
    {
      "cell_type": "code",
      "metadata": {
        "colab": {
          "base_uri": "https://localhost:8080/"
        },
        "id": "Lh8FfgGgUvRq",
        "outputId": "8723dce3-d832-4db3-9d4b-7979c401d1c6"
      },
      "source": [
        "#데이터의 dimension을 확인하세요.\n",
        "print(df1.shape)\n",
        "print(df2.shape)"
      ],
      "execution_count": 6,
      "outputs": [
        {
          "output_type": "stream",
          "text": [
            "(8, 32)\n",
            "(8, 32)\n"
          ],
          "name": "stdout"
        }
      ]
    },
    {
      "cell_type": "code",
      "metadata": {
        "id": "sR6QNryPKWR4"
      },
      "source": [
        "#데이터의 결측치가 어디에 있는지 확인 후 0으로 대체하세요.\n",
        "#pd.DataFrame(df1.isnull().sum(), columns=[\"결측치 개수\"])\n",
        "#pd.DataFrame(df2.isnull().sum(), columns=[\"결측치 개수\"])\n",
        "df1.isnull().sum()\n",
        "df2.isnull().sum()\n",
        "\n",
        "df1.fillna(0, inplace=True)\n",
        "df2.fillna(0, inplace=True)\n",
        "\n",
        "#각 데이터 별로 FCF의 값을 barplot으로 시각화하세요.\n",
        "#0보다 큰값, 작은값의 수의 총합을 num1, num2에 저장하세요\n",
        "\n"
      ],
      "execution_count": 7,
      "outputs": []
    },
    {
      "cell_type": "code",
      "metadata": {
        "id": "nZJvOJb_VD2h"
      },
      "source": [
        "#한글 폰트 깨짐 현상에 대한 해결 방법\n",
        "!sudo apt-get install -y fonts-nanum\n",
        "!sudo fc-cache -fv\n",
        "!rm ~/.cache/matplotlib -rf"
      ],
      "execution_count": null,
      "outputs": []
    },
    {
      "cell_type": "code",
      "metadata": {
        "id": "S_ULX6ZVWl7p",
        "colab": {
          "base_uri": "https://localhost:8080/",
          "height": 480
        },
        "outputId": "faac8101-7414-4815-abad-366f317a7e60"
      },
      "source": [
        "df1['FCF'].plot.bar();"
      ],
      "execution_count": 9,
      "outputs": [
        {
          "output_type": "stream",
          "text": [
            "/usr/local/lib/python3.7/dist-packages/matplotlib/backends/backend_agg.py:214: RuntimeWarning: Glyph 50672 missing from current font.\n",
            "  font.set_text(s, 0.0, flags=flags)\n",
            "/usr/local/lib/python3.7/dist-packages/matplotlib/backends/backend_agg.py:214: RuntimeWarning: Glyph 44208 missing from current font.\n",
            "  font.set_text(s, 0.0, flags=flags)\n",
            "/usr/local/lib/python3.7/dist-packages/matplotlib/backends/backend_agg.py:183: RuntimeWarning: Glyph 50672 missing from current font.\n",
            "  font.set_text(s, 0, flags=flags)\n",
            "/usr/local/lib/python3.7/dist-packages/matplotlib/backends/backend_agg.py:183: RuntimeWarning: Glyph 44208 missing from current font.\n",
            "  font.set_text(s, 0, flags=flags)\n"
          ],
          "name": "stderr"
        },
        {
          "output_type": "display_data",
          "data": {
            "image/png": "[encoded data removed]",
            "text/plain": [
              "<Figure size 432x288 with 1 Axes>"
            ]
          },
          "metadata": {
            "tags": [],
            "needs_background": "light"
          }
        }
      ]
    },
    {
      "cell_type": "code",
      "metadata": {
        "colab": {
          "base_uri": "https://localhost:8080/",
          "height": 434
        },
        "id": "m0qc5kTUWkRr",
        "outputId": "bb74eff4-5c8c-4108-f486-b649e51cf029"
      },
      "source": [
        "df2['FCF'].plot.barh();"
      ],
      "execution_count": 10,
      "outputs": [
        {
          "output_type": "stream",
          "text": [
            "/usr/local/lib/python3.7/dist-packages/matplotlib/backends/backend_agg.py:214: RuntimeWarning: Glyph 50672 missing from current font.\n",
            "  font.set_text(s, 0.0, flags=flags)\n",
            "/usr/local/lib/python3.7/dist-packages/matplotlib/backends/backend_agg.py:214: RuntimeWarning: Glyph 44208 missing from current font.\n",
            "  font.set_text(s, 0.0, flags=flags)\n",
            "/usr/local/lib/python3.7/dist-packages/matplotlib/backends/backend_agg.py:183: RuntimeWarning: Glyph 50672 missing from current font.\n",
            "  font.set_text(s, 0, flags=flags)\n",
            "/usr/local/lib/python3.7/dist-packages/matplotlib/backends/backend_agg.py:183: RuntimeWarning: Glyph 44208 missing from current font.\n",
            "  font.set_text(s, 0, flags=flags)\n"
          ],
          "name": "stderr"
        },
        {
          "output_type": "display_data",
          "data": {
            "image/png": "[encoded data removed]",
            "text/plain": [
              "<Figure size 432x288 with 1 Axes>"
            ]
          },
          "metadata": {
            "tags": [],
            "needs_background": "light"
          }
        }
      ]
    },
    {
      "cell_type": "code",
      "metadata": {
        "id": "s_ld2YJujRSb"
      },
      "source": [
        "# 0보다 큰 'FCF'\n",
        "num1 = df1.FCF[df1['FCF'] > 0].value_counts().sum() + df2.FCF[df2['FCF'] > 0].value_counts().sum()\n",
        "# 0보다 작은 'FCF'\n",
        "num2 = df1.FCF[df1['FCF'] < 0].value_counts().sum() + df2.FCF[df2['FCF'] < 0].value_counts().sum()\n",
        "\n"
      ],
      "execution_count": 11,
      "outputs": []
    },
    {
      "cell_type": "code",
      "metadata": {
        "colab": {
          "base_uri": "https://localhost:8080/"
        },
        "id": "NTHJdNknYCRK",
        "outputId": "c53ff67a-4006-43ed-84ac-513e447ef7c4"
      },
      "source": [
        "num1"
      ],
      "execution_count": 12,
      "outputs": [
        {
          "output_type": "execute_result",
          "data": {
            "text/plain": [
              "4"
            ]
          },
          "metadata": {
            "tags": []
          },
          "execution_count": 12
        }
      ]
    },
    {
      "cell_type": "code",
      "metadata": {
        "colab": {
          "base_uri": "https://localhost:8080/"
        },
        "id": "bLjUJ2qSYFDj",
        "outputId": "4fc71362-0f8f-4b4c-c8f7-32b8f8316663"
      },
      "source": [
        "num2"
      ],
      "execution_count": 13,
      "outputs": [
        {
          "output_type": "execute_result",
          "data": {
            "text/plain": [
              "6"
            ]
          },
          "metadata": {
            "tags": []
          },
          "execution_count": 13
        }
      ]
    },
    {
      "cell_type": "code",
      "metadata": {
        "id": "seMEB7WZYFaG"
      },
      "source": [
        ""
      ],
      "execution_count": null,
      "outputs": []
    },
    {
      "cell_type": "markdown",
      "metadata": {
        "id": "OGMOBwEBTqKS"
      },
      "source": [
        "## 3. File export\n",
        "\n",
        "- 읽었던 엑셀 파일의 내용을 2개의 csv로 각각 출력하세요. (python export csv)\n",
        "\n",
        "  - 이름은 각각 `df1.csv`, `df2.csv` 입니다.\n"
      ]
    },
    {
      "cell_type": "code",
      "metadata": {
        "id": "xe47NX7qk53H"
      },
      "source": [
        "df1.to_csv (\"df1.csv\",index = True)\n",
        "df2.to_csv (\"df2.csv\",index = True)"
      ],
      "execution_count": 16,
      "outputs": []
    },
    {
      "cell_type": "markdown",
      "metadata": {
        "id": "DCZ01w4Ps-jO"
      },
      "source": [
        "## 4. Error Handling\n",
        "\n",
        "- 다음의 에러를 고치세요. 결과값은 6912가 나와야합니다.\n"
      ]
    },
    {
      "cell_type": "code",
      "metadata": {
        "id": "NJdISe69ZT7E",
        "colab": {
          "base_uri": "https://localhost:8080/"
        },
        "outputId": "a267b7d0-1791-4662-a466-ab11708b4390"
      },
      "source": [
        "a = 1234\n",
        "b = 5678\n",
        "\n",
        "a+b"
      ],
      "execution_count": 46,
      "outputs": [
        {
          "output_type": "execute_result",
          "data": {
            "text/plain": [
              "6912"
            ]
          },
          "metadata": {
            "tags": []
          },
          "execution_count": 46
        }
      ]
    },
    {
      "cell_type": "markdown",
      "metadata": {
        "id": "KROePyMWQc08"
      },
      "source": [
        "5. EDA\n",
        "아래의 코드는 palmer penguin 데이터를 불러올 수 있는 코드입니다.\n",
        "\n",
        "import seaborn as sns\n",
        "\n",
        "pp = sns.load_dataset('penguins')\n",
        "이를 참조하여, pp의 species와 sex변수에 대해서 cross-tabulation을 시행하고, 6개의 값들 중 가장 큰 값을 num3에, 가장 작은 값을 num4에 저장하세요.\n",
        "```\n",
        "\n"
      ]
    },
    {
      "cell_type": "code",
      "metadata": {
        "id": "wI9fFIv8V7Up",
        "colab": {
          "base_uri": "https://localhost:8080/",
          "height": 416
        },
        "outputId": "8bb0b6a8-1465-46fa-bdf8-f8a87ae21336"
      },
      "source": [
        "import matplotlib.pyplot as plt\n",
        "import seaborn as sns\n",
        "\n",
        "pp = sns.load_dataset('penguins')\n",
        "pp"
      ],
      "execution_count": 17,
      "outputs": [
        {
          "output_type": "execute_result",
          "data": {
            "text/html": [
              "<div>\n",
              "<style scoped>\n",
              "    .dataframe tbody tr th:only-of-type {\n",
              "        vertical-align: middle;\n",
              "    }\n",
              "\n",
              "    .dataframe tbody tr th {\n",
              "        vertical-align: top;\n",
              "    }\n",
              "\n",
              "    .dataframe thead th {\n",
              "        text-align: right;\n",
              "    }\n",
              "</style>\n",
              "<table border=\"1\" class=\"dataframe\">\n",
              "  <thead>\n",
              "    <tr style=\"text-align: right;\">\n",
              "      <th></th>\n",
              "      <th>species</th>\n",
              "      <th>island</th>\n",
              "      <th>bill_length_mm</th>\n",
              "      <th>bill_depth_mm</th>\n",
              "      <th>flipper_length_mm</th>\n",
              "      <th>body_mass_g</th>\n",
              "      <th>sex</th>\n",
              "    </tr>\n",
              "  </thead>\n",
              "  <tbody>\n",
              "    <tr>\n",
              "      <th>0</th>\n",
              "      <td>Adelie</td>\n",
              "      <td>Torgersen</td>\n",
              "      <td>39.1</td>\n",
              "      <td>18.7</td>\n",
              "      <td>181.0</td>\n",
              "      <td>3750.0</td>\n",
              "      <td>Male</td>\n",
              "    </tr>\n",
              "    <tr>\n",
              "      <th>1</th>\n",
              "      <td>Adelie</td>\n",
              "      <td>Torgersen</td>\n",
              "      <td>39.5</td>\n",
              "      <td>17.4</td>\n",
              "      <td>186.0</td>\n",
              "      <td>3800.0</td>\n",
              "      <td>Female</td>\n",
              "    </tr>\n",
              "    <tr>\n",
              "      <th>2</th>\n",
              "      <td>Adelie</td>\n",
              "      <td>Torgersen</td>\n",
              "      <td>40.3</td>\n",
              "      <td>18.0</td>\n",
              "      <td>195.0</td>\n",
              "      <td>3250.0</td>\n",
              "      <td>Female</td>\n",
              "    </tr>\n",
              "    <tr>\n",
              "      <th>3</th>\n",
              "      <td>Adelie</td>\n",
              "      <td>Torgersen</td>\n",
              "      <td>NaN</td>\n",
              "      <td>NaN</td>\n",
              "      <td>NaN</td>\n",
              "      <td>NaN</td>\n",
              "      <td>NaN</td>\n",
              "    </tr>\n",
              "    <tr>\n",
              "      <th>4</th>\n",
              "      <td>Adelie</td>\n",
              "      <td>Torgersen</td>\n",
              "      <td>36.7</td>\n",
              "      <td>19.3</td>\n",
              "      <td>193.0</td>\n",
              "      <td>3450.0</td>\n",
              "      <td>Female</td>\n",
              "    </tr>\n",
              "    <tr>\n",
              "      <th>...</th>\n",
              "      <td>...</td>\n",
              "      <td>...</td>\n",
              "      <td>...</td>\n",
              "      <td>...</td>\n",
              "      <td>...</td>\n",
              "      <td>...</td>\n",
              "      <td>...</td>\n",
              "    </tr>\n",
              "    <tr>\n",
              "      <th>339</th>\n",
              "      <td>Gentoo</td>\n",
              "      <td>Biscoe</td>\n",
              "      <td>NaN</td>\n",
              "      <td>NaN</td>\n",
              "      <td>NaN</td>\n",
              "      <td>NaN</td>\n",
              "      <td>NaN</td>\n",
              "    </tr>\n",
              "    <tr>\n",
              "      <th>340</th>\n",
              "      <td>Gentoo</td>\n",
              "      <td>Biscoe</td>\n",
              "      <td>46.8</td>\n",
              "      <td>14.3</td>\n",
              "      <td>215.0</td>\n",
              "      <td>4850.0</td>\n",
              "      <td>Female</td>\n",
              "    </tr>\n",
              "    <tr>\n",
              "      <th>341</th>\n",
              "      <td>Gentoo</td>\n",
              "      <td>Biscoe</td>\n",
              "      <td>50.4</td>\n",
              "      <td>15.7</td>\n",
              "      <td>222.0</td>\n",
              "      <td>5750.0</td>\n",
              "      <td>Male</td>\n",
              "    </tr>\n",
              "    <tr>\n",
              "      <th>342</th>\n",
              "      <td>Gentoo</td>\n",
              "      <td>Biscoe</td>\n",
              "      <td>45.2</td>\n",
              "      <td>14.8</td>\n",
              "      <td>212.0</td>\n",
              "      <td>5200.0</td>\n",
              "      <td>Female</td>\n",
              "    </tr>\n",
              "    <tr>\n",
              "      <th>343</th>\n",
              "      <td>Gentoo</td>\n",
              "      <td>Biscoe</td>\n",
              "      <td>49.9</td>\n",
              "      <td>16.1</td>\n",
              "      <td>213.0</td>\n",
              "      <td>5400.0</td>\n",
              "      <td>Male</td>\n",
              "    </tr>\n",
              "  </tbody>\n",
              "</table>\n",
              "<p>344 rows × 7 columns</p>\n",
              "</div>"
            ],
            "text/plain": [
              "    species     island  bill_length_mm  ...  flipper_length_mm  body_mass_g     sex\n",
              "0    Adelie  Torgersen            39.1  ...              181.0       3750.0    Male\n",
              "1    Adelie  Torgersen            39.5  ...              186.0       3800.0  Female\n",
              "2    Adelie  Torgersen            40.3  ...              195.0       3250.0  Female\n",
              "3    Adelie  Torgersen             NaN  ...                NaN          NaN     NaN\n",
              "4    Adelie  Torgersen            36.7  ...              193.0       3450.0  Female\n",
              "..      ...        ...             ...  ...                ...          ...     ...\n",
              "339  Gentoo     Biscoe             NaN  ...                NaN          NaN     NaN\n",
              "340  Gentoo     Biscoe            46.8  ...              215.0       4850.0  Female\n",
              "341  Gentoo     Biscoe            50.4  ...              222.0       5750.0    Male\n",
              "342  Gentoo     Biscoe            45.2  ...              212.0       5200.0  Female\n",
              "343  Gentoo     Biscoe            49.9  ...              213.0       5400.0    Male\n",
              "\n",
              "[344 rows x 7 columns]"
            ]
          },
          "metadata": {
            "tags": []
          },
          "execution_count": 17
        }
      ]
    },
    {
      "cell_type": "code",
      "metadata": {
        "id": "wRb_8YNTPzNZ",
        "colab": {
          "base_uri": "https://localhost:8080/",
          "height": 416
        },
        "outputId": "34b149b0-d722-4afa-c8aa-4a36260cfecd"
      },
      "source": [
        "pp.drop(['island','bill_length_mm','bill_depth_mm','flipper_length_mm','body_mass_g'],axis=1)"
      ],
      "execution_count": 18,
      "outputs": [
        {
          "output_type": "execute_result",
          "data": {
            "text/html": [
              "<div>\n",
              "<style scoped>\n",
              "    .dataframe tbody tr th:only-of-type {\n",
              "        vertical-align: middle;\n",
              "    }\n",
              "\n",
              "    .dataframe tbody tr th {\n",
              "        vertical-align: top;\n",
              "    }\n",
              "\n",
              "    .dataframe thead th {\n",
              "        text-align: right;\n",
              "    }\n",
              "</style>\n",
              "<table border=\"1\" class=\"dataframe\">\n",
              "  <thead>\n",
              "    <tr style=\"text-align: right;\">\n",
              "      <th></th>\n",
              "      <th>species</th>\n",
              "      <th>sex</th>\n",
              "    </tr>\n",
              "  </thead>\n",
              "  <tbody>\n",
              "    <tr>\n",
              "      <th>0</th>\n",
              "      <td>Adelie</td>\n",
              "      <td>Male</td>\n",
              "    </tr>\n",
              "    <tr>\n",
              "      <th>1</th>\n",
              "      <td>Adelie</td>\n",
              "      <td>Female</td>\n",
              "    </tr>\n",
              "    <tr>\n",
              "      <th>2</th>\n",
              "      <td>Adelie</td>\n",
              "      <td>Female</td>\n",
              "    </tr>\n",
              "    <tr>\n",
              "      <th>3</th>\n",
              "      <td>Adelie</td>\n",
              "      <td>NaN</td>\n",
              "    </tr>\n",
              "    <tr>\n",
              "      <th>4</th>\n",
              "      <td>Adelie</td>\n",
              "      <td>Female</td>\n",
              "    </tr>\n",
              "    <tr>\n",
              "      <th>...</th>\n",
              "      <td>...</td>\n",
              "      <td>...</td>\n",
              "    </tr>\n",
              "    <tr>\n",
              "      <th>339</th>\n",
              "      <td>Gentoo</td>\n",
              "      <td>NaN</td>\n",
              "    </tr>\n",
              "    <tr>\n",
              "      <th>340</th>\n",
              "      <td>Gentoo</td>\n",
              "      <td>Female</td>\n",
              "    </tr>\n",
              "    <tr>\n",
              "      <th>341</th>\n",
              "      <td>Gentoo</td>\n",
              "      <td>Male</td>\n",
              "    </tr>\n",
              "    <tr>\n",
              "      <th>342</th>\n",
              "      <td>Gentoo</td>\n",
              "      <td>Female</td>\n",
              "    </tr>\n",
              "    <tr>\n",
              "      <th>343</th>\n",
              "      <td>Gentoo</td>\n",
              "      <td>Male</td>\n",
              "    </tr>\n",
              "  </tbody>\n",
              "</table>\n",
              "<p>344 rows × 2 columns</p>\n",
              "</div>"
            ],
            "text/plain": [
              "    species     sex\n",
              "0    Adelie    Male\n",
              "1    Adelie  Female\n",
              "2    Adelie  Female\n",
              "3    Adelie     NaN\n",
              "4    Adelie  Female\n",
              "..      ...     ...\n",
              "339  Gentoo     NaN\n",
              "340  Gentoo  Female\n",
              "341  Gentoo    Male\n",
              "342  Gentoo  Female\n",
              "343  Gentoo    Male\n",
              "\n",
              "[344 rows x 2 columns]"
            ]
          },
          "metadata": {
            "tags": []
          },
          "execution_count": 18
        }
      ]
    },
    {
      "cell_type": "code",
      "metadata": {
        "id": "MzgeyPS1WgS4",
        "colab": {
          "base_uri": "https://localhost:8080/"
        },
        "outputId": "482b79ee-43a6-4287-93c3-0a71f5141afb"
      },
      "source": [
        "table = pd.crosstab(pp.species, pp.sex)\n",
        "print(table)\n"
      ],
      "execution_count": 19,
      "outputs": [
        {
          "output_type": "stream",
          "text": [
            "sex        Female  Male\n",
            "species                \n",
            "Adelie         73    73\n",
            "Chinstrap      34    34\n",
            "Gentoo         58    61\n"
          ],
          "name": "stdout"
        }
      ]
    },
    {
      "cell_type": "code",
      "metadata": {
        "id": "3KqiraCSWvx-",
        "colab": {
          "base_uri": "https://localhost:8080/",
          "height": 278
        },
        "outputId": "20ce3658-a62d-4691-ba77-e5c7e68c74e2"
      },
      "source": [
        "sns.countplot(x=\"species\", hue=\"sex\", data=pp)\n",
        "plt.show()"
      ],
      "execution_count": 20,
      "outputs": [
        {
          "output_type": "display_data",
          "data": {
            "image/png": "[encoded data removed]",
            "text/plain": [
              "<Figure size 432x288 with 1 Axes>"
            ]
          },
          "metadata": {
            "tags": [],
            "needs_background": "light"
          }
        }
      ]
    },
    {
      "cell_type": "code",
      "metadata": {
        "id": "Rr5KE6m-ruVR"
      },
      "source": [
        "num3=73\n",
        "num4=34"
      ],
      "execution_count": 21,
      "outputs": []
    },
    {
      "cell_type": "markdown",
      "metadata": {
        "id": "en0Q_b5L4fxA"
      },
      "source": [
        "## Grading\n",
        "\n",
        "이전 과제를 완료했다면, 아래의 코드를 실행하세요. "
      ]
    },
    {
      "cell_type": "code",
      "metadata": {
        "id": "1k3zn-YV4fdg"
      },
      "source": [
        "import os\n",
        "\n",
        "def grade(df1, df2, num1, num2, num3, num4):\n",
        "  score = 0\n",
        "  \n",
        "  score += (df1['매출액'][0] == 14753)\n",
        "  score += (df2['매출액'][1] == 3728)\n",
        "\n",
        "  score += (df1.shape == (7, 32))\n",
        "  score += (df2.isnull().sum().sum() == 0)\n",
        "  score += (num1 == 4 and num2 == 6)\n",
        "  \n",
        "  score += (num3 == 73 and num4 == 34)\n",
        "\n",
        "  score += (os.listdir() == ['.config', 'df2.csv', 'df1.csv', 'sample_data'])\n",
        "\n",
        "  score += (a+b == 6912)\n",
        "\n",
        "  return(score)"
      ],
      "execution_count": null,
      "outputs": []
    },
    {
      "cell_type": "code",
      "metadata": {
        "id": "nj_RslFn4lCM"
      },
      "source": [
        "grade(df1, df2, num1, num2, num3, num4)"
      ],
      "execution_count": null,
      "outputs": []
    },
    {
      "cell_type": "markdown",
      "metadata": {
        "id": "axPHh5t5s124"
      },
      "source": [
        "## 🔥 도전과제 \n",
        "\n",
        "- 다음 데이터를 사용하여 아래와 동일한 그래프를 그리세요.\n",
        "\n",
        "<https://ds-lecture-data.s3.ap-northeast-2.amazonaws.com/stocks/TSLA.csv>\n",
        "\n",
        "<img src='https://i.imgur.com/UsS5JcZ.png'>\n",
        "\n"
      ]
    },
    {
      "cell_type": "code",
      "metadata": {
        "id": "4x0Ts_0gYVrl"
      },
      "source": [
        "tsla = 'https://ds-lecture-data.s3.ap-northeast-2.amazonaws.com/stocks/TSLA.csv'"
      ],
      "execution_count": 22,
      "outputs": []
    },
    {
      "cell_type": "code",
      "metadata": {
        "id": "eNGiylrhwm2D",
        "colab": {
          "base_uri": "https://localhost:8080/",
          "height": 202
        },
        "outputId": "5c9b4e59-6ef4-49fe-915f-50a93a9c0ca9"
      },
      "source": [
        "import pandas as pd\n",
        "ts = pd.read_csv(tsla)\n",
        "ts.head()"
      ],
      "execution_count": 23,
      "outputs": [
        {
          "output_type": "execute_result",
          "data": {
            "text/html": [
              "<div>\n",
              "<style scoped>\n",
              "    .dataframe tbody tr th:only-of-type {\n",
              "        vertical-align: middle;\n",
              "    }\n",
              "\n",
              "    .dataframe tbody tr th {\n",
              "        vertical-align: top;\n",
              "    }\n",
              "\n",
              "    .dataframe thead th {\n",
              "        text-align: right;\n",
              "    }\n",
              "</style>\n",
              "<table border=\"1\" class=\"dataframe\">\n",
              "  <thead>\n",
              "    <tr style=\"text-align: right;\">\n",
              "      <th></th>\n",
              "      <th>Date</th>\n",
              "      <th>Open</th>\n",
              "      <th>High</th>\n",
              "      <th>Low</th>\n",
              "      <th>Close</th>\n",
              "      <th>Adj Close</th>\n",
              "      <th>Volume</th>\n",
              "    </tr>\n",
              "  </thead>\n",
              "  <tbody>\n",
              "    <tr>\n",
              "      <th>0</th>\n",
              "      <td>2010-06-29</td>\n",
              "      <td>19.000000</td>\n",
              "      <td>25.00</td>\n",
              "      <td>17.540001</td>\n",
              "      <td>23.889999</td>\n",
              "      <td>23.889999</td>\n",
              "      <td>18766300</td>\n",
              "    </tr>\n",
              "    <tr>\n",
              "      <th>1</th>\n",
              "      <td>2010-06-30</td>\n",
              "      <td>25.790001</td>\n",
              "      <td>30.42</td>\n",
              "      <td>23.299999</td>\n",
              "      <td>23.830000</td>\n",
              "      <td>23.830000</td>\n",
              "      <td>17187100</td>\n",
              "    </tr>\n",
              "    <tr>\n",
              "      <th>2</th>\n",
              "      <td>2010-07-01</td>\n",
              "      <td>25.000000</td>\n",
              "      <td>25.92</td>\n",
              "      <td>20.270000</td>\n",
              "      <td>21.959999</td>\n",
              "      <td>21.959999</td>\n",
              "      <td>8218800</td>\n",
              "    </tr>\n",
              "    <tr>\n",
              "      <th>3</th>\n",
              "      <td>2010-07-02</td>\n",
              "      <td>23.000000</td>\n",
              "      <td>23.10</td>\n",
              "      <td>18.709999</td>\n",
              "      <td>19.200001</td>\n",
              "      <td>19.200001</td>\n",
              "      <td>5139800</td>\n",
              "    </tr>\n",
              "    <tr>\n",
              "      <th>4</th>\n",
              "      <td>2010-07-06</td>\n",
              "      <td>20.000000</td>\n",
              "      <td>20.00</td>\n",
              "      <td>15.830000</td>\n",
              "      <td>16.110001</td>\n",
              "      <td>16.110001</td>\n",
              "      <td>6866900</td>\n",
              "    </tr>\n",
              "  </tbody>\n",
              "</table>\n",
              "</div>"
            ],
            "text/plain": [
              "         Date       Open   High        Low      Close  Adj Close    Volume\n",
              "0  2010-06-29  19.000000  25.00  17.540001  23.889999  23.889999  18766300\n",
              "1  2010-06-30  25.790001  30.42  23.299999  23.830000  23.830000  17187100\n",
              "2  2010-07-01  25.000000  25.92  20.270000  21.959999  21.959999   8218800\n",
              "3  2010-07-02  23.000000  23.10  18.709999  19.200001  19.200001   5139800\n",
              "4  2010-07-06  20.000000  20.00  15.830000  16.110001  16.110001   6866900"
            ]
          },
          "metadata": {
            "tags": []
          },
          "execution_count": 23
        }
      ]
    },
    {
      "cell_type": "code",
      "metadata": {
        "id": "fwaiVVbU8KTE",
        "colab": {
          "base_uri": "https://localhost:8080/",
          "height": 202
        },
        "outputId": "d541444f-839a-43db-ff2e-a65c81dccf07"
      },
      "source": [
        "ts.tail()"
      ],
      "execution_count": 24,
      "outputs": [
        {
          "output_type": "execute_result",
          "data": {
            "text/html": [
              "<div>\n",
              "<style scoped>\n",
              "    .dataframe tbody tr th:only-of-type {\n",
              "        vertical-align: middle;\n",
              "    }\n",
              "\n",
              "    .dataframe tbody tr th {\n",
              "        vertical-align: top;\n",
              "    }\n",
              "\n",
              "    .dataframe thead th {\n",
              "        text-align: right;\n",
              "    }\n",
              "</style>\n",
              "<table border=\"1\" class=\"dataframe\">\n",
              "  <thead>\n",
              "    <tr style=\"text-align: right;\">\n",
              "      <th></th>\n",
              "      <th>Date</th>\n",
              "      <th>Open</th>\n",
              "      <th>High</th>\n",
              "      <th>Low</th>\n",
              "      <th>Close</th>\n",
              "      <th>Adj Close</th>\n",
              "      <th>Volume</th>\n",
              "    </tr>\n",
              "  </thead>\n",
              "  <tbody>\n",
              "    <tr>\n",
              "      <th>2411</th>\n",
              "      <td>2020-01-28</td>\n",
              "      <td>568.489990</td>\n",
              "      <td>576.809998</td>\n",
              "      <td>558.080017</td>\n",
              "      <td>566.900024</td>\n",
              "      <td>566.900024</td>\n",
              "      <td>11788500</td>\n",
              "    </tr>\n",
              "    <tr>\n",
              "      <th>2412</th>\n",
              "      <td>2020-01-29</td>\n",
              "      <td>575.690002</td>\n",
              "      <td>589.799988</td>\n",
              "      <td>567.429993</td>\n",
              "      <td>580.989990</td>\n",
              "      <td>580.989990</td>\n",
              "      <td>17801500</td>\n",
              "    </tr>\n",
              "    <tr>\n",
              "      <th>2413</th>\n",
              "      <td>2020-01-30</td>\n",
              "      <td>632.419983</td>\n",
              "      <td>650.880005</td>\n",
              "      <td>618.000000</td>\n",
              "      <td>640.809998</td>\n",
              "      <td>640.809998</td>\n",
              "      <td>29005700</td>\n",
              "    </tr>\n",
              "    <tr>\n",
              "      <th>2414</th>\n",
              "      <td>2020-01-31</td>\n",
              "      <td>640.000000</td>\n",
              "      <td>653.000000</td>\n",
              "      <td>632.520020</td>\n",
              "      <td>650.570007</td>\n",
              "      <td>650.570007</td>\n",
              "      <td>15719300</td>\n",
              "    </tr>\n",
              "    <tr>\n",
              "      <th>2415</th>\n",
              "      <td>2020-02-03</td>\n",
              "      <td>673.690002</td>\n",
              "      <td>786.140015</td>\n",
              "      <td>673.520020</td>\n",
              "      <td>780.000000</td>\n",
              "      <td>780.000000</td>\n",
              "      <td>47065000</td>\n",
              "    </tr>\n",
              "  </tbody>\n",
              "</table>\n",
              "</div>"
            ],
            "text/plain": [
              "            Date        Open        High  ...       Close   Adj Close    Volume\n",
              "2411  2020-01-28  568.489990  576.809998  ...  566.900024  566.900024  11788500\n",
              "2412  2020-01-29  575.690002  589.799988  ...  580.989990  580.989990  17801500\n",
              "2413  2020-01-30  632.419983  650.880005  ...  640.809998  640.809998  29005700\n",
              "2414  2020-01-31  640.000000  653.000000  ...  650.570007  650.570007  15719300\n",
              "2415  2020-02-03  673.690002  786.140015  ...  780.000000  780.000000  47065000\n",
              "\n",
              "[5 rows x 7 columns]"
            ]
          },
          "metadata": {
            "tags": []
          },
          "execution_count": 24
        }
      ]
    },
    {
      "cell_type": "code",
      "metadata": {
        "id": "d-4A_UnDQlJr",
        "colab": {
          "base_uri": "https://localhost:8080/",
          "height": 416
        },
        "outputId": "ad72b770-03d5-4b21-a16c-72a2062085eb"
      },
      "source": [
        "ts.set_index('Date')\n",
        "ts_date_close = ts[['Date','Close']]\n",
        "ts_date_close"
      ],
      "execution_count": 25,
      "outputs": [
        {
          "output_type": "execute_result",
          "data": {
            "text/html": [
              "<div>\n",
              "<style scoped>\n",
              "    .dataframe tbody tr th:only-of-type {\n",
              "        vertical-align: middle;\n",
              "    }\n",
              "\n",
              "    .dataframe tbody tr th {\n",
              "        vertical-align: top;\n",
              "    }\n",
              "\n",
              "    .dataframe thead th {\n",
              "        text-align: right;\n",
              "    }\n",
              "</style>\n",
              "<table border=\"1\" class=\"dataframe\">\n",
              "  <thead>\n",
              "    <tr style=\"text-align: right;\">\n",
              "      <th></th>\n",
              "      <th>Date</th>\n",
              "      <th>Close</th>\n",
              "    </tr>\n",
              "  </thead>\n",
              "  <tbody>\n",
              "    <tr>\n",
              "      <th>0</th>\n",
              "      <td>2010-06-29</td>\n",
              "      <td>23.889999</td>\n",
              "    </tr>\n",
              "    <tr>\n",
              "      <th>1</th>\n",
              "      <td>2010-06-30</td>\n",
              "      <td>23.830000</td>\n",
              "    </tr>\n",
              "    <tr>\n",
              "      <th>2</th>\n",
              "      <td>2010-07-01</td>\n",
              "      <td>21.959999</td>\n",
              "    </tr>\n",
              "    <tr>\n",
              "      <th>3</th>\n",
              "      <td>2010-07-02</td>\n",
              "      <td>19.200001</td>\n",
              "    </tr>\n",
              "    <tr>\n",
              "      <th>4</th>\n",
              "      <td>2010-07-06</td>\n",
              "      <td>16.110001</td>\n",
              "    </tr>\n",
              "    <tr>\n",
              "      <th>...</th>\n",
              "      <td>...</td>\n",
              "      <td>...</td>\n",
              "    </tr>\n",
              "    <tr>\n",
              "      <th>2411</th>\n",
              "      <td>2020-01-28</td>\n",
              "      <td>566.900024</td>\n",
              "    </tr>\n",
              "    <tr>\n",
              "      <th>2412</th>\n",
              "      <td>2020-01-29</td>\n",
              "      <td>580.989990</td>\n",
              "    </tr>\n",
              "    <tr>\n",
              "      <th>2413</th>\n",
              "      <td>2020-01-30</td>\n",
              "      <td>640.809998</td>\n",
              "    </tr>\n",
              "    <tr>\n",
              "      <th>2414</th>\n",
              "      <td>2020-01-31</td>\n",
              "      <td>650.570007</td>\n",
              "    </tr>\n",
              "    <tr>\n",
              "      <th>2415</th>\n",
              "      <td>2020-02-03</td>\n",
              "      <td>780.000000</td>\n",
              "    </tr>\n",
              "  </tbody>\n",
              "</table>\n",
              "<p>2416 rows × 2 columns</p>\n",
              "</div>"
            ],
            "text/plain": [
              "            Date       Close\n",
              "0     2010-06-29   23.889999\n",
              "1     2010-06-30   23.830000\n",
              "2     2010-07-01   21.959999\n",
              "3     2010-07-02   19.200001\n",
              "4     2010-07-06   16.110001\n",
              "...          ...         ...\n",
              "2411  2020-01-28  566.900024\n",
              "2412  2020-01-29  580.989990\n",
              "2413  2020-01-30  640.809998\n",
              "2414  2020-01-31  650.570007\n",
              "2415  2020-02-03  780.000000\n",
              "\n",
              "[2416 rows x 2 columns]"
            ]
          },
          "metadata": {
            "tags": []
          },
          "execution_count": 25
        }
      ]
    },
    {
      "cell_type": "code",
      "metadata": {
        "id": "6AdGFH_mQ1G4",
        "colab": {
          "base_uri": "https://localhost:8080/",
          "height": 284
        },
        "outputId": "95c50fcf-db7e-4d28-98a5-e82dc5299ba4"
      },
      "source": [
        "ts_date_close.plot()"
      ],
      "execution_count": 26,
      "outputs": [
        {
          "output_type": "execute_result",
          "data": {
            "text/plain": [
              "<matplotlib.axes._subplots.AxesSubplot at 0x7f851fa85a50>"
            ]
          },
          "metadata": {
            "tags": []
          },
          "execution_count": 26
        },
        {
          "output_type": "display_data",
          "data": {
            "image/png": "[encoded data removed]",
            "text/plain": [
              "<Figure size 432x288 with 1 Axes>"
            ]
          },
          "metadata": {
            "tags": [],
            "needs_background": "light"
          }
        }
      ]
    },
    {
      "cell_type": "code",
      "metadata": {
        "id": "-DAIxXYFQ4yl",
        "colab": {
          "base_uri": "https://localhost:8080/"
        },
        "outputId": "b623d898-721c-4a22-8ba9-842c88c0ff54"
      },
      "source": [
        "ymin =int(ts['Date'].str[:4].min())\n",
        "ymax =int(ts['Date'].str[:4].max())\n",
        "print(ymin,ymax)"
      ],
      "execution_count": 32,
      "outputs": [
        {
          "output_type": "stream",
          "text": [
            "2010 2020\n"
          ],
          "name": "stdout"
        }
      ]
    },
    {
      "cell_type": "code",
      "metadata": {
        "id": "vovautcfRdnB",
        "colab": {
          "base_uri": "https://localhost:8080/"
        },
        "outputId": "a4c73719-220d-48de-d254-e60ab8592c30"
      },
      "source": [
        "year = {}\n",
        "\n",
        "for i in range(ymin,ymax+1,1):\n",
        "  year[i]=ts[ts['Date'].str[:4]==str(i)].index\n",
        "\n",
        "year"
      ],
      "execution_count": 33,
      "outputs": [
        {
          "output_type": "execute_result",
          "data": {
            "text/plain": [
              "{2010: Int64Index([  0,   1,   2,   3,   4,   5,   6,   7,   8,   9,\n",
              "             ...\n",
              "             120, 121, 122, 123, 124, 125, 126, 127, 128, 129],\n",
              "            dtype='int64', length=130),\n",
              " 2011: Int64Index([130, 131, 132, 133, 134, 135, 136, 137, 138, 139,\n",
              "             ...\n",
              "             372, 373, 374, 375, 376, 377, 378, 379, 380, 381],\n",
              "            dtype='int64', length=252),\n",
              " 2012: Int64Index([382, 383, 384, 385, 386, 387, 388, 389, 390, 391,\n",
              "             ...\n",
              "             622, 623, 624, 625, 626, 627, 628, 629, 630, 631],\n",
              "            dtype='int64', length=250),\n",
              " 2013: Int64Index([632, 633, 634, 635, 636, 637, 638, 639, 640, 641,\n",
              "             ...\n",
              "             874, 875, 876, 877, 878, 879, 880, 881, 882, 883],\n",
              "            dtype='int64', length=252),\n",
              " 2014: Int64Index([ 884,  885,  886,  887,  888,  889,  890,  891,  892,  893,\n",
              "             ...\n",
              "             1126, 1127, 1128, 1129, 1130, 1131, 1132, 1133, 1134, 1135],\n",
              "            dtype='int64', length=252),\n",
              " 2015: Int64Index([1136, 1137, 1138, 1139, 1140, 1141, 1142, 1143, 1144, 1145,\n",
              "             ...\n",
              "             1378, 1379, 1380, 1381, 1382, 1383, 1384, 1385, 1386, 1387],\n",
              "            dtype='int64', length=252),\n",
              " 2016: Int64Index([1388, 1389, 1390, 1391, 1392, 1393, 1394, 1395, 1396, 1397,\n",
              "             ...\n",
              "             1630, 1631, 1632, 1633, 1634, 1635, 1636, 1637, 1638, 1639],\n",
              "            dtype='int64', length=252),\n",
              " 2017: Int64Index([1640, 1641, 1642, 1643, 1644, 1645, 1646, 1647, 1648, 1649,\n",
              "             ...\n",
              "             1881, 1882, 1883, 1884, 1885, 1886, 1887, 1888, 1889, 1890],\n",
              "            dtype='int64', length=251),\n",
              " 2018: Int64Index([1891, 1892, 1893, 1894, 1895, 1896, 1897, 1898, 1899, 1900,\n",
              "             ...\n",
              "             2132, 2133, 2134, 2135, 2136, 2137, 2138, 2139, 2140, 2141],\n",
              "            dtype='int64', length=251),\n",
              " 2019: Int64Index([2142, 2143, 2144, 2145, 2146, 2147, 2148, 2149, 2150, 2151,\n",
              "             ...\n",
              "             2384, 2385, 2386, 2387, 2388, 2389, 2390, 2391, 2392, 2393],\n",
              "            dtype='int64', length=252),\n",
              " 2020: Int64Index([2394, 2395, 2396, 2397, 2398, 2399, 2400, 2401, 2402, 2403, 2404,\n",
              "             2405, 2406, 2407, 2408, 2409, 2410, 2411, 2412, 2413, 2414, 2415],\n",
              "            dtype='int64')}"
            ]
          },
          "metadata": {
            "tags": []
          },
          "execution_count": 33
        }
      ]
    },
    {
      "cell_type": "code",
      "metadata": {
        "id": "Vc99d-vCSggs",
        "colab": {
          "base_uri": "https://localhost:8080/",
          "height": 660
        },
        "outputId": "d3a1afba-3cae-42df-bb9a-bfb3021e3b43"
      },
      "source": [
        "ts_date = ts[['Date']]\n",
        "\n",
        "\n",
        "for i in range(ymin,ymax+1,1):\n",
        "  ts_date.loc[year[i],i] = ts['Close']\n",
        "\n",
        "ts_date"
      ],
      "execution_count": 34,
      "outputs": [
        {
          "output_type": "stream",
          "text": [
            "/usr/local/lib/python3.7/dist-packages/pandas/core/indexing.py:1596: SettingWithCopyWarning: \n",
            "A value is trying to be set on a copy of a slice from a DataFrame.\n",
            "Try using .loc[row_indexer,col_indexer] = value instead\n",
            "\n",
            "See the caveats in the documentation: https://pandas.pydata.org/pandas-docs/stable/user_guide/indexing.html#returning-a-view-versus-a-copy\n",
            "  self.obj[key] = _infer_fill_value(value)\n",
            "/usr/local/lib/python3.7/dist-packages/pandas/core/indexing.py:1743: SettingWithCopyWarning: \n",
            "A value is trying to be set on a copy of a slice from a DataFrame.\n",
            "Try using .loc[row_indexer,col_indexer] = value instead\n",
            "\n",
            "See the caveats in the documentation: https://pandas.pydata.org/pandas-docs/stable/user_guide/indexing.html#returning-a-view-versus-a-copy\n",
            "  isetter(ilocs[0], value)\n"
          ],
          "name": "stderr"
        },
        {
          "output_type": "execute_result",
          "data": {
            "text/html": [
              "<div>\n",
              "<style scoped>\n",
              "    .dataframe tbody tr th:only-of-type {\n",
              "        vertical-align: middle;\n",
              "    }\n",
              "\n",
              "    .dataframe tbody tr th {\n",
              "        vertical-align: top;\n",
              "    }\n",
              "\n",
              "    .dataframe thead th {\n",
              "        text-align: right;\n",
              "    }\n",
              "</style>\n",
              "<table border=\"1\" class=\"dataframe\">\n",
              "  <thead>\n",
              "    <tr style=\"text-align: right;\">\n",
              "      <th></th>\n",
              "      <th>Date</th>\n",
              "      <th>2010</th>\n",
              "      <th>2011</th>\n",
              "      <th>2012</th>\n",
              "      <th>2013</th>\n",
              "      <th>2014</th>\n",
              "      <th>2015</th>\n",
              "      <th>2016</th>\n",
              "      <th>2017</th>\n",
              "      <th>2018</th>\n",
              "      <th>2019</th>\n",
              "      <th>2020</th>\n",
              "    </tr>\n",
              "  </thead>\n",
              "  <tbody>\n",
              "    <tr>\n",
              "      <th>0</th>\n",
              "      <td>2010-06-29</td>\n",
              "      <td>23.889999</td>\n",
              "      <td>NaN</td>\n",
              "      <td>NaN</td>\n",
              "      <td>NaN</td>\n",
              "      <td>NaN</td>\n",
              "      <td>NaN</td>\n",
              "      <td>NaN</td>\n",
              "      <td>NaN</td>\n",
              "      <td>NaN</td>\n",
              "      <td>NaN</td>\n",
              "      <td>NaN</td>\n",
              "    </tr>\n",
              "    <tr>\n",
              "      <th>1</th>\n",
              "      <td>2010-06-30</td>\n",
              "      <td>23.830000</td>\n",
              "      <td>NaN</td>\n",
              "      <td>NaN</td>\n",
              "      <td>NaN</td>\n",
              "      <td>NaN</td>\n",
              "      <td>NaN</td>\n",
              "      <td>NaN</td>\n",
              "      <td>NaN</td>\n",
              "      <td>NaN</td>\n",
              "      <td>NaN</td>\n",
              "      <td>NaN</td>\n",
              "    </tr>\n",
              "    <tr>\n",
              "      <th>2</th>\n",
              "      <td>2010-07-01</td>\n",
              "      <td>21.959999</td>\n",
              "      <td>NaN</td>\n",
              "      <td>NaN</td>\n",
              "      <td>NaN</td>\n",
              "      <td>NaN</td>\n",
              "      <td>NaN</td>\n",
              "      <td>NaN</td>\n",
              "      <td>NaN</td>\n",
              "      <td>NaN</td>\n",
              "      <td>NaN</td>\n",
              "      <td>NaN</td>\n",
              "    </tr>\n",
              "    <tr>\n",
              "      <th>3</th>\n",
              "      <td>2010-07-02</td>\n",
              "      <td>19.200001</td>\n",
              "      <td>NaN</td>\n",
              "      <td>NaN</td>\n",
              "      <td>NaN</td>\n",
              "      <td>NaN</td>\n",
              "      <td>NaN</td>\n",
              "      <td>NaN</td>\n",
              "      <td>NaN</td>\n",
              "      <td>NaN</td>\n",
              "      <td>NaN</td>\n",
              "      <td>NaN</td>\n",
              "    </tr>\n",
              "    <tr>\n",
              "      <th>4</th>\n",
              "      <td>2010-07-06</td>\n",
              "      <td>16.110001</td>\n",
              "      <td>NaN</td>\n",
              "      <td>NaN</td>\n",
              "      <td>NaN</td>\n",
              "      <td>NaN</td>\n",
              "      <td>NaN</td>\n",
              "      <td>NaN</td>\n",
              "      <td>NaN</td>\n",
              "      <td>NaN</td>\n",
              "      <td>NaN</td>\n",
              "      <td>NaN</td>\n",
              "    </tr>\n",
              "    <tr>\n",
              "      <th>...</th>\n",
              "      <td>...</td>\n",
              "      <td>...</td>\n",
              "      <td>...</td>\n",
              "      <td>...</td>\n",
              "      <td>...</td>\n",
              "      <td>...</td>\n",
              "      <td>...</td>\n",
              "      <td>...</td>\n",
              "      <td>...</td>\n",
              "      <td>...</td>\n",
              "      <td>...</td>\n",
              "      <td>...</td>\n",
              "    </tr>\n",
              "    <tr>\n",
              "      <th>2411</th>\n",
              "      <td>2020-01-28</td>\n",
              "      <td>NaN</td>\n",
              "      <td>NaN</td>\n",
              "      <td>NaN</td>\n",
              "      <td>NaN</td>\n",
              "      <td>NaN</td>\n",
              "      <td>NaN</td>\n",
              "      <td>NaN</td>\n",
              "      <td>NaN</td>\n",
              "      <td>NaN</td>\n",
              "      <td>NaN</td>\n",
              "      <td>566.900024</td>\n",
              "    </tr>\n",
              "    <tr>\n",
              "      <th>2412</th>\n",
              "      <td>2020-01-29</td>\n",
              "      <td>NaN</td>\n",
              "      <td>NaN</td>\n",
              "      <td>NaN</td>\n",
              "      <td>NaN</td>\n",
              "      <td>NaN</td>\n",
              "      <td>NaN</td>\n",
              "      <td>NaN</td>\n",
              "      <td>NaN</td>\n",
              "      <td>NaN</td>\n",
              "      <td>NaN</td>\n",
              "      <td>580.989990</td>\n",
              "    </tr>\n",
              "    <tr>\n",
              "      <th>2413</th>\n",
              "      <td>2020-01-30</td>\n",
              "      <td>NaN</td>\n",
              "      <td>NaN</td>\n",
              "      <td>NaN</td>\n",
              "      <td>NaN</td>\n",
              "      <td>NaN</td>\n",
              "      <td>NaN</td>\n",
              "      <td>NaN</td>\n",
              "      <td>NaN</td>\n",
              "      <td>NaN</td>\n",
              "      <td>NaN</td>\n",
              "      <td>640.809998</td>\n",
              "    </tr>\n",
              "    <tr>\n",
              "      <th>2414</th>\n",
              "      <td>2020-01-31</td>\n",
              "      <td>NaN</td>\n",
              "      <td>NaN</td>\n",
              "      <td>NaN</td>\n",
              "      <td>NaN</td>\n",
              "      <td>NaN</td>\n",
              "      <td>NaN</td>\n",
              "      <td>NaN</td>\n",
              "      <td>NaN</td>\n",
              "      <td>NaN</td>\n",
              "      <td>NaN</td>\n",
              "      <td>650.570007</td>\n",
              "    </tr>\n",
              "    <tr>\n",
              "      <th>2415</th>\n",
              "      <td>2020-02-03</td>\n",
              "      <td>NaN</td>\n",
              "      <td>NaN</td>\n",
              "      <td>NaN</td>\n",
              "      <td>NaN</td>\n",
              "      <td>NaN</td>\n",
              "      <td>NaN</td>\n",
              "      <td>NaN</td>\n",
              "      <td>NaN</td>\n",
              "      <td>NaN</td>\n",
              "      <td>NaN</td>\n",
              "      <td>780.000000</td>\n",
              "    </tr>\n",
              "  </tbody>\n",
              "</table>\n",
              "<p>2416 rows × 12 columns</p>\n",
              "</div>"
            ],
            "text/plain": [
              "            Date       2010  2011  2012  ...  2017  2018  2019        2020\n",
              "0     2010-06-29  23.889999   NaN   NaN  ...   NaN   NaN   NaN         NaN\n",
              "1     2010-06-30  23.830000   NaN   NaN  ...   NaN   NaN   NaN         NaN\n",
              "2     2010-07-01  21.959999   NaN   NaN  ...   NaN   NaN   NaN         NaN\n",
              "3     2010-07-02  19.200001   NaN   NaN  ...   NaN   NaN   NaN         NaN\n",
              "4     2010-07-06  16.110001   NaN   NaN  ...   NaN   NaN   NaN         NaN\n",
              "...          ...        ...   ...   ...  ...   ...   ...   ...         ...\n",
              "2411  2020-01-28        NaN   NaN   NaN  ...   NaN   NaN   NaN  566.900024\n",
              "2412  2020-01-29        NaN   NaN   NaN  ...   NaN   NaN   NaN  580.989990\n",
              "2413  2020-01-30        NaN   NaN   NaN  ...   NaN   NaN   NaN  640.809998\n",
              "2414  2020-01-31        NaN   NaN   NaN  ...   NaN   NaN   NaN  650.570007\n",
              "2415  2020-02-03        NaN   NaN   NaN  ...   NaN   NaN   NaN  780.000000\n",
              "\n",
              "[2416 rows x 12 columns]"
            ]
          },
          "metadata": {
            "tags": []
          },
          "execution_count": 34
        }
      ]
    },
    {
      "cell_type": "code",
      "metadata": {
        "id": "Y5Po6Q9ATcz8",
        "colab": {
          "base_uri": "https://localhost:8080/",
          "height": 354
        },
        "outputId": "d222aa51-94ac-4585-ed8b-fdafddec4709"
      },
      "source": [
        "ts_date.plot(ylabel = 'Close price',title='Stock Price Movement Grouped by Year on Close',figsize=(12,5)).grid(axis='y'),plt.ylim(0,500),plt.xlim(0,2400)\n",
        "#,fontweight=\"bold\",fontsize=\"large\",color='pink'"
      ],
      "execution_count": 35,
      "outputs": [
        {
          "output_type": "execute_result",
          "data": {
            "text/plain": [
              "(None, (0.0, 500.0), (0.0, 2400.0))"
            ]
          },
          "metadata": {
            "tags": []
          },
          "execution_count": 35
        },
        {
          "output_type": "display_data",
          "data": {
            "image/png": "[encoded data removed]",
            "text/plain": [
              "<Figure size 864x360 with 1 Axes>"
            ]
          },
          "metadata": {
            "tags": [],
            "needs_background": "light"
          }
        }
      ]
    },
    {
      "cell_type": "code",
      "metadata": {
        "id": "Jy8oGpvg6aQ3",
        "colab": {
          "base_uri": "https://localhost:8080/",
          "height": 173
        },
        "outputId": "bdca0b46-eb59-4d47-c6cb-6a5c91a7d866"
      },
      "source": [
        "2010['Close Price']=2010"
      ],
      "execution_count": 31,
      "outputs": [
        {
          "output_type": "error",
          "ename": "TypeError",
          "evalue": "ignored",
          "traceback": [
            "\u001b[0;31m---------------------------------------------------------------------------\u001b[0m",
            "\u001b[0;31mTypeError\u001b[0m                                 Traceback (most recent call last)",
            "\u001b[0;32m<ipython-input-31-48cf0c395f13>\u001b[0m in \u001b[0;36m<module>\u001b[0;34m()\u001b[0m\n\u001b[0;32m----> 1\u001b[0;31m \u001b[0;36m2010\u001b[0m\u001b[0;34m[\u001b[0m\u001b[0;34m'Close Price'\u001b[0m\u001b[0;34m]\u001b[0m\u001b[0;34m=\u001b[0m\u001b[0;36m2010\u001b[0m\u001b[0;34m\u001b[0m\u001b[0;34m\u001b[0m\u001b[0m\n\u001b[0m",
            "\u001b[0;31mTypeError\u001b[0m: 'int' object does not support item assignment"
          ]
        }
      ]
    },
    {
      "cell_type": "code",
      "metadata": {
        "id": "sY7ox0X6yC_9"
      },
      "source": [
        "import datetime\n",
        "\n",
        "x = datetime.datetime.now()\n",
        "\n",
        "print(x.strftime(\"%Y\"))\n"
      ],
      "execution_count": null,
      "outputs": []
    },
    {
      "cell_type": "code",
      "metadata": {
        "id": "hkXOsKqj0UVN"
      },
      "source": [
        "import matplotlib.pyplot as plt\n",
        "plt.figure(figsize = (16,6))\n",
        "plt.plot(range(ts.shape[0]),(ts['Low']+ts['High'])/2.0)\n",
        "plt.xticks(range(0,ts.shape[0],500),ts['Date'].loc[::500],rotation=45)\n",
        "plt.title('Stock Price Movement Grouped by Year on Close',fontsize=18 )\n",
        "plt.ylabel('Close Price',fontsize=18)\n",
        "plt.grid(axis = 'y')\n",
        "plt.show()"
      ],
      "execution_count": null,
      "outputs": []
    },
    {
      "cell_type": "markdown",
      "metadata": {
        "id": "Obp0rnowSgF8"
      },
      "source": [
        "- penguins 데이터를 계속 사용합니다.\n",
        "\n",
        "이에 대해 아래의 task들을 시행하세요.\n",
        "\n",
        "- 결측치 처리 (제거)\n",
        "\n",
        "- bill_length_mm에 대해서 qqplot 그리기\n",
        "\n",
        "- island에 대해서 다른 4개의 numerical feature 를 boxplot으로 표현하기\n",
        "\n",
        "- 각 numerical feature에 대해서 summary statistics : mean, sd, Quantiles(1Q, 2Q, 3Q, 4Q)를 계산하세요."
      ]
    },
    {
      "cell_type": "code",
      "metadata": {
        "id": "vBtfzcSxXPTY"
      },
      "source": [
        ""
      ],
      "execution_count": null,
      "outputs": []
    }
  ]
}