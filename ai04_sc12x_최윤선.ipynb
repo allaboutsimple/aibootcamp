{
  "nbformat": 4,
  "nbformat_minor": 0,
  "metadata": {
    "colab": {
      "name": "ai04-sc12x-홍길동.ipynb",
      "provenance": [],
      "include_colab_link": true
    },
    "kernelspec": {
      "display_name": "Python 3",
      "language": "python",
      "name": "python3"
    },
    "language_info": {
      "codemirror_mode": {
        "name": "ipython",
        "version": 3
      },
      "file_extension": ".py",
      "mimetype": "text/x-python",
      "name": "python",
      "nbconvert_exporter": "python",
      "pygments_lexer": "ipython3",
      "version": "3.8.2"
    }
  },
  "cells": [
    {
      "cell_type": "markdown",
      "metadata": {
        "id": "view-in-github",
        "colab_type": "text"
      },
      "source": [
        "<a href=\"https://colab.research.google.com/github/allaboutsimple/aibootcamp/blob/main/ai04_sc12x_%EC%B5%9C%EC%9C%A4%EC%84%A0.ipynb\" target=\"_parent\"><img src=\"https://colab.research.google.com/assets/colab-badge.svg\" alt=\"Open In Colab\"/></a>"
      ]
    },
    {
      "cell_type": "markdown",
      "metadata": {
        "id": "NooAiTdnafkz"
      },
      "source": [
        "<img src='https://i.imgur.com/RDAD11M.png' width = '200' align = 'right'>\n",
        "\n",
        "# SC12x\n",
        "\n",
        "## Statistical Analysis"
      ]
    },
    {
      "cell_type": "markdown",
      "metadata": {
        "id": "p1WIHlUA7itE"
      },
      "source": [
        "## 개요\n",
        "\n",
        "여러분은 코스 수료를 마치고 CodeStates에 DS CA (Coaching  Assistant)로 합류했습니다.\n",
        "\n",
        "여러분에게 주어진 메인 태스크는 세션 및 수강생 핸들링이지만. \n",
        "\n",
        "시간을 짜내어 사이드 프로젝트를 하고 싶어졌습니다.\n",
        "\n",
        "AIB 팀원들과의 커피타임을 통해 수강생 데이터를 하나 받을 수 있었습니다.\n",
        "\n",
        "> 기수별 학생들 성취도 데이터인데, 어떤 의미가 있는지 확인해주세요."
      ]
    },
    {
      "cell_type": "markdown",
      "metadata": {
        "id": "WpH5PrMh-rOU"
      },
      "source": [
        "### Data Description\n",
        "\n",
        "- F1 : `N`, `D`\n",
        "- F2 : `Y`, `N`\n",
        "- F3 : `A`, `B`, `C`, `D` (기수)\n",
        "- F4 : Continuous\n",
        "- F5 : Continuous\n",
        "- F6 : `A` ~ `H`\n",
        "- F7 : Continuous\n",
        "- F8 : `X`, `Y`, `Z`\n",
        "- F9 : `Y`, `N`"
      ]
    },
    {
      "cell_type": "markdown",
      "metadata": {
        "id": "5wch6ksCbJtZ"
      },
      "source": [
        "## 1. 다음 링크를 참조하여 데이터를 불러오세요. \n",
        "\n",
        "<https://ds-lecture-data.s3.ap-northeast-2.amazonaws.com/sc12x/csdata.csv>\n",
        "\n",
        "이후 간단한 전처리를 하세요.\n"
      ]
    },
    {
      "cell_type": "code",
      "metadata": {
        "id": "1vSniBMjN950"
      },
      "source": [
        "import pandas as pd\n",
        "import numpy as np\n",
        "df = pd.read_csv(\"https://ds-lecture-data.s3.ap-northeast-2.amazonaws.com/sc12x/csdata.csv\")"
      ],
      "execution_count": 167,
      "outputs": []
    },
    {
      "cell_type": "code",
      "metadata": {
        "colab": {
          "base_uri": "https://localhost:8080/"
        },
        "id": "oi5G82hjKHtN",
        "outputId": "5395814a-3220-426d-9dd2-613206b2788a"
      },
      "source": [
        "print(df.head()) # 데이터 head 열어서 파악\n",
        "print(df.tail()) # 데이터 tail 열어서 파악\n",
        "print(df.info()) # 데이터의 type등 확인\n",
        "print(df.shape) # shape확인\n",
        "print(df.isnull().sum()) # 결측 값 수\n",
        "print(df.sum()) # 합"
      ],
      "execution_count": 168,
      "outputs": [
        {
          "output_type": "stream",
          "text": [
            "   Unnamed: 0 F1 F2 F3        F4        F5 F6   F7 F8 F9\n",
            "0           1  N  N  A  2.239542  0.773708  H  3.0  Y  Y\n",
            "1           2  D  N  A  1.608900  0.133612  H  3.0  X  Y\n",
            "2           3  N  N  A  2.544409  0.721873  H  8.0  Y  Y\n",
            "3           4  N  Y  A  0.782857  0.259751  F  9.0  Y  N\n",
            "4           5  N  N  A  1.532721  0.283534  E  4.0  Z  Y\n",
            "     Unnamed: 0 F1 F2 F3        F4        F5 F6   F7 F8 F9\n",
            "195         196  N  N  D  2.765327  0.753814  G  5.0  X  Y\n",
            "196         197  N  Y  D  3.098499  0.637145  G  2.0  Y  Y\n",
            "197         198  N  N  D  1.613861  0.882830  F  2.0  Z  Y\n",
            "198         199  N  N  d  3.003789  0.892767  G  4.0  Z  Y\n",
            "199         200  N  N  D  2.468083  0.121094  G  5.0  X  N\n",
            "<class 'pandas.core.frame.DataFrame'>\n",
            "RangeIndex: 200 entries, 0 to 199\n",
            "Data columns (total 10 columns):\n",
            " #   Column      Non-Null Count  Dtype  \n",
            "---  ------      --------------  -----  \n",
            " 0   Unnamed: 0  200 non-null    int64  \n",
            " 1   F1          200 non-null    object \n",
            " 2   F2          191 non-null    object \n",
            " 3   F3          200 non-null    object \n",
            " 4   F4          200 non-null    float64\n",
            " 5   F5          170 non-null    float64\n",
            " 6   F6          200 non-null    object \n",
            " 7   F7          197 non-null    float64\n",
            " 8   F8          200 non-null    object \n",
            " 9   F9          200 non-null    object \n",
            "dtypes: float64(3), int64(1), object(6)\n",
            "memory usage: 15.8+ KB\n",
            "None\n",
            "(200, 10)\n",
            "Unnamed: 0     0\n",
            "F1             0\n",
            "F2             9\n",
            "F3             0\n",
            "F4             0\n",
            "F5            30\n",
            "F6             0\n",
            "F7             3\n",
            "F8             0\n",
            "F9             0\n",
            "dtype: int64\n",
            "Unnamed: 0                                                20100\n",
            "F1            NDNNNNNNNNNNNNNNDNNNNNNNNNNDNNNDNNNNNNNNNNNNND...\n",
            "F3            AAAAAAaAAAAAAAAAAaAAAAaAAAAAaAAaAAaAAAAAaAAAaA...\n",
            "F4                                                      502.531\n",
            "F5                                                      85.0386\n",
            "F6            HHHFEFCHFGGHHFHGHHGGHHHDGHDFFHHHFHEHEGEGGFGHHH...\n",
            "F7                                                          972\n",
            "F8            YXYYZYYYYZXXYYXYXYYYZZXZZYZYZZZYYZYYXXYYYYYXYZ...\n",
            "F9            YYYNYNNNYYNYYYNYNYNNYNYNNNYNYNNNNYYNYYNNNYNYNN...\n",
            "dtype: object\n"
          ],
          "name": "stdout"
        }
      ]
    },
    {
      "cell_type": "code",
      "metadata": {
        "colab": {
          "base_uri": "https://localhost:8080/"
        },
        "id": "BNEw5XVWKnA1",
        "outputId": "2293cc89-74ff-43b0-a46d-669fe796a717"
      },
      "source": [
        "# 결측값 확인하여 0으로 바꾸기\n",
        "df.fillna(0, inplace=True) \n",
        "print(df.isnull().sum())\n",
        "df.set_index('Unnamed: 0', inplace=True) \n"
      ],
      "execution_count": 169,
      "outputs": [
        {
          "output_type": "stream",
          "text": [
            "Unnamed: 0    0\n",
            "F1            0\n",
            "F2            0\n",
            "F3            0\n",
            "F4            0\n",
            "F5            0\n",
            "F6            0\n",
            "F7            0\n",
            "F8            0\n",
            "F9            0\n",
            "dtype: int64\n"
          ],
          "name": "stdout"
        }
      ]
    },
    {
      "cell_type": "markdown",
      "metadata": {
        "id": "G7rLytbrO38L"
      },
      "source": [
        "## 2. **F3**에 따라서 다른 Feature들이 어떤 경향을 나타내는지 해석해보세요.\n",
        "\n",
        "- categorical feature의 경우 crosstab을 사용하여 [contingency tables](https://en.wikipedia.org/wiki/Contingency_table)과 chi-square를 시도해 볼 수 있습니다.\n",
        "\n",
        "- continuous feature의 경우 여러 시각화와 t-test를 할 수 있을 겁니다.\n",
        "\n",
        "- 이를 바탕으로 **가장 유의미한** 그리고 **가장 무의미한** feature를 찾아보세요.\n",
        "\n",
        "여기서 여러분들의 목표는 \n",
        "\n",
        "`F3`에 따라서 다른 feature들이 영향이 있는지 없는지를 알아보는 \n",
        "\n",
        "**가설검정** 입니다.\n",
        "\n",
        "따라서 데이터 탐색 및 시각화 작업에 너무 많은 시간을 쏟지 마세요. 이것은 사이드 프로젝트 입니다."
      ]
    },
    {
      "cell_type": "code",
      "metadata": {
        "colab": {
          "base_uri": "https://localhost:8080/",
          "height": 484
        },
        "id": "PHD4ilA9Nxnn",
        "outputId": "b96e633d-7631-4d4e-b158-5beb2f9c4e7b"
      },
      "source": [
        "#소문자와 대문자 규격맞춤\n",
        "print(df['F3'].unique())\n",
        "df=df.replace({'a':'A'}).replace({'b':'B'}).replace({'c':'C'}).replace({'d':'D'})\n",
        "print(df['F3'].unique())\n",
        "df"
      ],
      "execution_count": 170,
      "outputs": [
        {
          "output_type": "stream",
          "text": [
            "['A' 'a' 'B' 'b' 'C' 'c' 'D' 'd']\n",
            "['A' 'B' 'C' 'D']\n"
          ],
          "name": "stdout"
        },
        {
          "output_type": "execute_result",
          "data": {
            "text/html": [
              "<div>\n",
              "<style scoped>\n",
              "    .dataframe tbody tr th:only-of-type {\n",
              "        vertical-align: middle;\n",
              "    }\n",
              "\n",
              "    .dataframe tbody tr th {\n",
              "        vertical-align: top;\n",
              "    }\n",
              "\n",
              "    .dataframe thead th {\n",
              "        text-align: right;\n",
              "    }\n",
              "</style>\n",
              "<table border=\"1\" class=\"dataframe\">\n",
              "  <thead>\n",
              "    <tr style=\"text-align: right;\">\n",
              "      <th></th>\n",
              "      <th>F1</th>\n",
              "      <th>F2</th>\n",
              "      <th>F3</th>\n",
              "      <th>F4</th>\n",
              "      <th>F5</th>\n",
              "      <th>F6</th>\n",
              "      <th>F7</th>\n",
              "      <th>F8</th>\n",
              "      <th>F9</th>\n",
              "    </tr>\n",
              "    <tr>\n",
              "      <th>Unnamed: 0</th>\n",
              "      <th></th>\n",
              "      <th></th>\n",
              "      <th></th>\n",
              "      <th></th>\n",
              "      <th></th>\n",
              "      <th></th>\n",
              "      <th></th>\n",
              "      <th></th>\n",
              "      <th></th>\n",
              "    </tr>\n",
              "  </thead>\n",
              "  <tbody>\n",
              "    <tr>\n",
              "      <th>1</th>\n",
              "      <td>N</td>\n",
              "      <td>N</td>\n",
              "      <td>A</td>\n",
              "      <td>2.239542</td>\n",
              "      <td>0.773708</td>\n",
              "      <td>H</td>\n",
              "      <td>3.0</td>\n",
              "      <td>Y</td>\n",
              "      <td>Y</td>\n",
              "    </tr>\n",
              "    <tr>\n",
              "      <th>2</th>\n",
              "      <td>D</td>\n",
              "      <td>N</td>\n",
              "      <td>A</td>\n",
              "      <td>1.608900</td>\n",
              "      <td>0.133612</td>\n",
              "      <td>H</td>\n",
              "      <td>3.0</td>\n",
              "      <td>X</td>\n",
              "      <td>Y</td>\n",
              "    </tr>\n",
              "    <tr>\n",
              "      <th>3</th>\n",
              "      <td>N</td>\n",
              "      <td>N</td>\n",
              "      <td>A</td>\n",
              "      <td>2.544409</td>\n",
              "      <td>0.721873</td>\n",
              "      <td>H</td>\n",
              "      <td>8.0</td>\n",
              "      <td>Y</td>\n",
              "      <td>Y</td>\n",
              "    </tr>\n",
              "    <tr>\n",
              "      <th>4</th>\n",
              "      <td>N</td>\n",
              "      <td>Y</td>\n",
              "      <td>A</td>\n",
              "      <td>0.782857</td>\n",
              "      <td>0.259751</td>\n",
              "      <td>F</td>\n",
              "      <td>9.0</td>\n",
              "      <td>Y</td>\n",
              "      <td>N</td>\n",
              "    </tr>\n",
              "    <tr>\n",
              "      <th>5</th>\n",
              "      <td>N</td>\n",
              "      <td>N</td>\n",
              "      <td>A</td>\n",
              "      <td>1.532721</td>\n",
              "      <td>0.283534</td>\n",
              "      <td>E</td>\n",
              "      <td>4.0</td>\n",
              "      <td>Z</td>\n",
              "      <td>Y</td>\n",
              "    </tr>\n",
              "    <tr>\n",
              "      <th>...</th>\n",
              "      <td>...</td>\n",
              "      <td>...</td>\n",
              "      <td>...</td>\n",
              "      <td>...</td>\n",
              "      <td>...</td>\n",
              "      <td>...</td>\n",
              "      <td>...</td>\n",
              "      <td>...</td>\n",
              "      <td>...</td>\n",
              "    </tr>\n",
              "    <tr>\n",
              "      <th>196</th>\n",
              "      <td>N</td>\n",
              "      <td>N</td>\n",
              "      <td>D</td>\n",
              "      <td>2.765327</td>\n",
              "      <td>0.753814</td>\n",
              "      <td>G</td>\n",
              "      <td>5.0</td>\n",
              "      <td>X</td>\n",
              "      <td>Y</td>\n",
              "    </tr>\n",
              "    <tr>\n",
              "      <th>197</th>\n",
              "      <td>N</td>\n",
              "      <td>Y</td>\n",
              "      <td>D</td>\n",
              "      <td>3.098499</td>\n",
              "      <td>0.637145</td>\n",
              "      <td>G</td>\n",
              "      <td>2.0</td>\n",
              "      <td>Y</td>\n",
              "      <td>Y</td>\n",
              "    </tr>\n",
              "    <tr>\n",
              "      <th>198</th>\n",
              "      <td>N</td>\n",
              "      <td>N</td>\n",
              "      <td>D</td>\n",
              "      <td>1.613861</td>\n",
              "      <td>0.882830</td>\n",
              "      <td>F</td>\n",
              "      <td>2.0</td>\n",
              "      <td>Z</td>\n",
              "      <td>Y</td>\n",
              "    </tr>\n",
              "    <tr>\n",
              "      <th>199</th>\n",
              "      <td>N</td>\n",
              "      <td>N</td>\n",
              "      <td>D</td>\n",
              "      <td>3.003789</td>\n",
              "      <td>0.892767</td>\n",
              "      <td>G</td>\n",
              "      <td>4.0</td>\n",
              "      <td>Z</td>\n",
              "      <td>Y</td>\n",
              "    </tr>\n",
              "    <tr>\n",
              "      <th>200</th>\n",
              "      <td>N</td>\n",
              "      <td>N</td>\n",
              "      <td>D</td>\n",
              "      <td>2.468083</td>\n",
              "      <td>0.121094</td>\n",
              "      <td>G</td>\n",
              "      <td>5.0</td>\n",
              "      <td>X</td>\n",
              "      <td>N</td>\n",
              "    </tr>\n",
              "  </tbody>\n",
              "</table>\n",
              "<p>200 rows × 9 columns</p>\n",
              "</div>"
            ],
            "text/plain": [
              "           F1 F2 F3        F4        F5 F6   F7 F8 F9\n",
              "Unnamed: 0                                           \n",
              "1           N  N  A  2.239542  0.773708  H  3.0  Y  Y\n",
              "2           D  N  A  1.608900  0.133612  H  3.0  X  Y\n",
              "3           N  N  A  2.544409  0.721873  H  8.0  Y  Y\n",
              "4           N  Y  A  0.782857  0.259751  F  9.0  Y  N\n",
              "5           N  N  A  1.532721  0.283534  E  4.0  Z  Y\n",
              "...        .. .. ..       ...       ... ..  ... .. ..\n",
              "196         N  N  D  2.765327  0.753814  G  5.0  X  Y\n",
              "197         N  Y  D  3.098499  0.637145  G  2.0  Y  Y\n",
              "198         N  N  D  1.613861  0.882830  F  2.0  Z  Y\n",
              "199         N  N  D  3.003789  0.892767  G  4.0  Z  Y\n",
              "200         N  N  D  2.468083  0.121094  G  5.0  X  N\n",
              "\n",
              "[200 rows x 9 columns]"
            ]
          },
          "metadata": {
            "tags": []
          },
          "execution_count": 170
        }
      ]
    },
    {
      "cell_type": "code",
      "metadata": {
        "colab": {
          "base_uri": "https://localhost:8080/",
          "height": 204
        },
        "id": "a-pzgFFNYdYQ",
        "outputId": "8b6f9415-a6a5-4304-e709-dacade4475c2"
      },
      "source": [
        "#continuous feature\n",
        "pivot=pd.pivot_table(df, index='F3')\n",
        "pivot"
      ],
      "execution_count": 171,
      "outputs": [
        {
          "output_type": "execute_result",
          "data": {
            "text/html": [
              "<div>\n",
              "<style scoped>\n",
              "    .dataframe tbody tr th:only-of-type {\n",
              "        vertical-align: middle;\n",
              "    }\n",
              "\n",
              "    .dataframe tbody tr th {\n",
              "        vertical-align: top;\n",
              "    }\n",
              "\n",
              "    .dataframe thead th {\n",
              "        text-align: right;\n",
              "    }\n",
              "</style>\n",
              "<table border=\"1\" class=\"dataframe\">\n",
              "  <thead>\n",
              "    <tr style=\"text-align: right;\">\n",
              "      <th></th>\n",
              "      <th>F4</th>\n",
              "      <th>F5</th>\n",
              "      <th>F7</th>\n",
              "    </tr>\n",
              "    <tr>\n",
              "      <th>F3</th>\n",
              "      <th></th>\n",
              "      <th></th>\n",
              "      <th></th>\n",
              "    </tr>\n",
              "  </thead>\n",
              "  <tbody>\n",
              "    <tr>\n",
              "      <th>A</th>\n",
              "      <td>1.618046</td>\n",
              "      <td>0.446866</td>\n",
              "      <td>4.94</td>\n",
              "    </tr>\n",
              "    <tr>\n",
              "      <th>B</th>\n",
              "      <td>2.563696</td>\n",
              "      <td>0.415067</td>\n",
              "      <td>4.70</td>\n",
              "    </tr>\n",
              "    <tr>\n",
              "      <th>C</th>\n",
              "      <td>3.342931</td>\n",
              "      <td>0.430444</td>\n",
              "      <td>4.86</td>\n",
              "    </tr>\n",
              "    <tr>\n",
              "      <th>D</th>\n",
              "      <td>2.525947</td>\n",
              "      <td>0.408395</td>\n",
              "      <td>4.94</td>\n",
              "    </tr>\n",
              "  </tbody>\n",
              "</table>\n",
              "</div>"
            ],
            "text/plain": [
              "          F4        F5    F7\n",
              "F3                          \n",
              "A   1.618046  0.446866  4.94\n",
              "B   2.563696  0.415067  4.70\n",
              "C   3.342931  0.430444  4.86\n",
              "D   2.525947  0.408395  4.94"
            ]
          },
          "metadata": {
            "tags": []
          },
          "execution_count": 171
        }
      ]
    },
    {
      "cell_type": "code",
      "metadata": {
        "colab": {
          "base_uri": "https://localhost:8080/",
          "height": 408
        },
        "id": "IKcKYFnilMUl",
        "outputId": "f94eeaac-5050-4232-f6f3-1318efbe7065"
      },
      "source": [
        "#데이터 시각화 by plt\n",
        "import matplotlib.pyplot as plt\n",
        "%matplotlib inline\n",
        "\n",
        "ax = pivot.plot(kind='bar', title='chi2', figsize=(8, 6))\n",
        "ax.set_ylabel('value')\n",
        "plt.grid(color='darkgray')\n",
        "plt.show()"
      ],
      "execution_count": 206,
      "outputs": [
        {
          "output_type": "display_data",
          "data": {
            "image/png": "[encoded data removed]",
            "text/plain": [
              "<Figure size 576x432 with 1 Axes>"
            ]
          },
          "metadata": {
            "tags": [],
            "needs_background": "light"
          }
        }
      ]
    },
    {
      "cell_type": "code",
      "metadata": {
        "colab": {
          "base_uri": "https://localhost:8080/"
        },
        "id": "PeIvn3_inFMP",
        "outputId": "bb10d401-a6ae-4f7c-e99b-8ad1d68cf996"
      },
      "source": [
        "import scipy.stats\n",
        "scipy.stats.chisquare(df[\"F1\"].value_counts())"
      ],
      "execution_count": 212,
      "outputs": [
        {
          "output_type": "execute_result",
          "data": {
            "text/plain": [
              "Power_divergenceResult(statistic=81.92, pvalue=1.4170803476684087e-19)"
            ]
          },
          "metadata": {
            "tags": []
          },
          "execution_count": 212
        }
      ]
    },
    {
      "cell_type": "code",
      "metadata": {
        "colab": {
          "base_uri": "https://localhost:8080/",
          "height": 407
        },
        "id": "VzNMUFUJfu6K",
        "outputId": "bce727ff-4cfd-425d-fa4e-70717168cd4c"
      },
      "source": [
        "import matplotlib.pyplot as plt\n",
        "import seaborn as sns\n",
        "\n",
        "df_melt = pd.melt(df.reset_index(), id_vars=['F3'], value_vars=['F4', 'F5', 'F7'])\n",
        "df_melt.columns = ['F4', 'F5', 'F7']\n",
        "\n",
        "ax = sns.boxplot(x='F4', y='F7', data=df_melt, color='#99c2a2')\n",
        "ax = sns.swarmplot(x=\"F4\", y=\"F7\", data=df_melt, color='#7d0013')\n",
        "plt.show()"
      ],
      "execution_count": 208,
      "outputs": [
        {
          "output_type": "stream",
          "text": [
            "/usr/local/lib/python3.7/dist-packages/seaborn/categorical.py:1296: UserWarning: 10.7% of the points cannot be placed; you may want to decrease the size of the markers or use stripplot.\n",
            "  warnings.warn(msg, UserWarning)\n",
            "/usr/local/lib/python3.7/dist-packages/seaborn/categorical.py:1296: UserWarning: 7.3% of the points cannot be placed; you may want to decrease the size of the markers or use stripplot.\n",
            "  warnings.warn(msg, UserWarning)\n",
            "/usr/local/lib/python3.7/dist-packages/seaborn/categorical.py:1296: UserWarning: 11.3% of the points cannot be placed; you may want to decrease the size of the markers or use stripplot.\n",
            "  warnings.warn(msg, UserWarning)\n"
          ],
          "name": "stderr"
        },
        {
          "output_type": "display_data",
          "data": {
            "image/png": "[encoded data removed]",
            "text/plain": [
              "<Figure size 432x288 with 1 Axes>"
            ]
          },
          "metadata": {
            "tags": [],
            "needs_background": "light"
          }
        }
      ]
    },
    {
      "cell_type": "code",
      "metadata": {
        "colab": {
          "base_uri": "https://localhost:8080/"
        },
        "id": "D8HkFFXWioGC",
        "outputId": "49958c52-d470-45b7-8cd9-fad797b41455"
      },
      "source": [
        "import scipy.stats as stats\n",
        "fvalue, pvalue = stats.f_oneway(pivot['F4'], pivot['F5'], pivot['F7'])\n",
        "print(fvalue, pvalue)"
      ],
      "execution_count": 200,
      "outputs": [
        {
          "output_type": "stream",
          "text": [
            "115.69152592874401 3.802103997671801e-07\n"
          ],
          "name": "stdout"
        }
      ]
    },
    {
      "cell_type": "markdown",
      "metadata": {
        "id": "ZM8JckA2bgnp"
      },
      "source": [
        "## 3. 분석한 내용들을 설명하는 리포트를 작성해보세요. \n",
        "\n",
        "분석의 끝은 결국 설명입니다.\n",
        "\n",
        "통계 분석에 대한 이해도가 적은 다른 크루들이 이해 할 수 있도록 \n",
        "\n",
        "분석한 내용들을 설명하는 리포트를 작성해보세요. \n",
        "\n",
        "필요한 경우 코드 / 텍스트 내용을 더 추가해도 좋습니다."
      ]
    },
    {
      "cell_type": "code",
      "metadata": {
        "id": "rHsthhmPLaqk",
        "colab": {
          "base_uri": "https://localhost:8080/"
        },
        "outputId": "5bc38148-3b84-4d14-a0d5-946bfe2da5d3"
      },
      "source": [
        "print('''continuous feature의 경우 데이터 시각화를 통해 \n",
        "F4의 결과값이 팀C>팀B>팀A>팀D순으로 높았으며 \n",
        "F7의 경우 팀B가 눈에 띄는 아웃라이어를 보였습니다.\n",
        "\n",
        "현재까지 분석한 값들 중 가장 유의미한 값은 F4, \n",
        "가장 무의미한 값은 별다른 변동성이 없없던 F5로 확인됩니다.\n",
        "\n",
        "categorical feature는 아직 답을 얻지 못했습니다.''')"
      ],
      "execution_count": 241,
      "outputs": [
        {
          "output_type": "stream",
          "text": [
            "continuous feature의 경우 데이터 시각화를 통해 \n",
            "F4의 결과값이 팀C>팀B>팀A>팀D순으로 높았으며 \n",
            "F7의 경우 팀B가 눈에 띄는 아웃라이어를 보였습니다.\n",
            "\n",
            "현재까지 분석한 값들 중 가장 유의미한 값은 F4, \n",
            "가장 무의미한 값은 별다른 변동성이 없없던 F5로 확인됩니다.\n",
            "\n",
            "categorical feature는 아직 답을 얻지 못했습니다.\n"
          ],
          "name": "stdout"
        }
      ]
    },
    {
      "cell_type": "markdown",
      "metadata": {
        "id": "XOequK5xpVz7"
      },
      "source": [
        "## SC 3점 요구사항:\n",
        "\n",
        "위에서 요구된 사항들을 모두 정확하게 만족하고, 시간이 남았다면 아래 내용을 충족하는 경우 3점을 얻을 수 있습니다. \n",
        "\n",
        "아래 요구사항들 중 하나의 요구사항만 충족하면 되며, 모두 **optional** 임을 다시 한 번 강조합니다. (필수 요구사항이 아닙니다.)\n",
        "\n",
        "- Numerical 데이터에 대해서 normalize를 한 다음, 위에서 진행 했었던 분석을 다시 시행해보세요. (F4, F5, F7 vs F3)\n",
        "\n",
        "- Categorical 데이터를 one-hot encoding을 통해서 numerical 로 변환 후, 위에서 진행 했었던 분석을 다시 시행해보세요. (F1, F2, F6, F8, F9 vs F3)"
      ]
    },
    {
      "cell_type": "code",
      "metadata": {
        "id": "NT37grnxqa05"
      },
      "source": [
        "# 이 곳에 답안을 작성하시기 바랍니다"
      ],
      "execution_count": null,
      "outputs": []
    }
  ]
}