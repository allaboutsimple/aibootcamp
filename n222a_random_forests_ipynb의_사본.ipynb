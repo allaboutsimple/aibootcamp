{
  "nbformat": 4,
  "nbformat_minor": 0,
  "metadata": {
    "kernelspec": {
      "display_name": "Python 3",
      "language": "python",
      "name": "python3"
    },
    "language_info": {
      "codemirror_mode": {
        "name": "ipython",
        "version": 3
      },
      "file_extension": ".py",
      "mimetype": "text/x-python",
      "name": "python",
      "nbconvert_exporter": "python",
      "pygments_lexer": "ipython3",
      "version": "3.7.7"
    },
    "colab": {
      "name": "n222a-random-forests.ipynb의 사본",
      "provenance": [],
      "include_colab_link": true
    }
  },
  "cells": [
    {
      "cell_type": "markdown",
      "metadata": {
        "id": "view-in-github",
        "colab_type": "text"
      },
      "source": [
        "<a href=\"https://colab.research.google.com/github/allaboutsimple/aibootcamp/blob/main/n222a_random_forests_ipynb%EC%9D%98_%EC%82%AC%EB%B3%B8.ipynb\" target=\"_parent\"><img src=\"https://colab.research.google.com/assets/colab-badge.svg\" alt=\"Open In Colab\"/></a>"
      ]
    },
    {
      "cell_type": "markdown",
      "metadata": {
        "id": "okPdF7RnLB4z"
      },
      "source": [
        "<img align=\"right\" src=\"https://ds-cs-images.s3.ap-northeast-2.amazonaws.com/Codestates_Fulllogo_Color.png\" width=100>\n",
        "\n",
        "## *DATA SCIENCE / SECTION 2 / SPRINT 2 / NOTE 2*\n",
        "\n",
        "# 📝 Assignment\n",
        "---"
      ]
    },
    {
      "cell_type": "code",
      "metadata": {
        "id": "wrXHK2WStwOe",
        "colab": {
          "base_uri": "https://localhost:8080/",
          "height": 51
        },
        "outputId": "b2a8d8a1-9f90-45b1-867e-1c42ce1df9b2"
      },
      "source": [
        "'''pip install kaggle --upgrade\n",
        "import os\n",
        "\n",
        "os.environ['KAGGLE_USERNAME'] = 'simplecode'\n",
        "os.environ['KAGGLE_KEY'] = 'd51973b533c839f65e363dc8ea47b938'\n",
        "\n",
        "!kaggle -h\n",
        "!kaggle competitions download -c prediction-of-h1n1-vaccination\n",
        "!unzip '*.zip'\n",
        "!ls'''"
      ],
      "execution_count": 9,
      "outputs": [
        {
          "output_type": "execute_result",
          "data": {
            "application/vnd.google.colaboratory.intrinsic+json": {
              "type": "string"
            },
            "text/plain": [
              "\"pip install kaggle --upgrade\\nimport os\\n\\nos.environ['KAGGLE_USERNAME'] = 'simplecode'\\nos.environ['KAGGLE_KEY'] = 'd51973b533c839f65e363dc8ea47b938'\\n\\n!kaggle -h\\n!kaggle competitions download -c prediction-of-h1n1-vaccination\\n!unzip '*.zip'\\n!ls\""
            ]
          },
          "metadata": {
            "tags": []
          },
          "execution_count": 9
        }
      ]
    },
    {
      "cell_type": "markdown",
      "metadata": {
        "id": "7IXUfiQ2UKj6"
      },
      "source": [
        "# 랜덤포레스트(Random Forests)\n",
        "\n",
        "### 1) 캐글 대회를 이어서 진행합니다. EDA, 데이터 전처리 부분을 업데이트 하세요.\n",
        "- EDA는 항상 완벽할 수 없지요 한 주간 계속 같은 데이터로 과제를 진행하므로 부족한 부분을 추가하거나 논하세요.\n",
        "- (지금은 feature engineering에 너무 시간을 들이지 마세요!)\n",
        "- Ordinal Encoding을 적용해 보세요.\n",
        "- **(객관식) 다음 특성들 중에 순서를 고려한 Ordinal Encoding이 필요해 보이는 특성을 선택하고 과제 제출폼에 제출하세요.**\n",
        "    1. opinion_h1n1_vacc_effective\n",
        "    2. state\n",
        "    3. marital\n",
        "    4. employment_occupation\n"
      ]
    },
    {
      "cell_type": "code",
      "metadata": {
        "id": "m1zaZMMbLB42"
      },
      "source": [
        "import pandas as pd\n",
        "import numpy as np"
      ],
      "execution_count": 10,
      "outputs": []
    },
    {
      "cell_type": "code",
      "metadata": {
        "id": "sPgjHATpuAUA"
      },
      "source": [
        "target = 'vacc_h1n1_f'\n",
        "train = pd.merge(pd.read_csv('/train.csv'),\n",
        "                 pd.read_csv('/train_labels.csv')[target], left_index=True, right_index=True)\n",
        "test = pd.read_csv('/test.csv')\n",
        "sample_submission = pd.read_csv('/submission.csv')"
      ],
      "execution_count": 11,
      "outputs": []
    },
    {
      "cell_type": "code",
      "metadata": {
        "id": "gCnOUDiSxBJn",
        "colab": {
          "base_uri": "https://localhost:8080/"
        },
        "outputId": "fa483384-46a8-4e80-ed35-eccdd5c33f47"
      },
      "source": [
        "train.dtypes"
      ],
      "execution_count": 12,
      "outputs": [
        {
          "output_type": "execute_result",
          "data": {
            "text/plain": [
              "h1n1_concern                   float64\n",
              "h1n1_knowledge                 float64\n",
              "behavioral_antiviral_meds      float64\n",
              "behavioral_avoidance           float64\n",
              "behavioral_face_mask           float64\n",
              "behavioral_wash_hands          float64\n",
              "behavioral_large_gatherings    float64\n",
              "behavioral_outside_home        float64\n",
              "behavioral_touch_face          float64\n",
              "doctor_recc_h1n1               float64\n",
              "doctor_recc_seasonal           float64\n",
              "chronic_med_condition          float64\n",
              "child_under_6_months           float64\n",
              "health_insurance               float64\n",
              "health_worker                  float64\n",
              "opinion_h1n1_vacc_effective     object\n",
              "opinion_h1n1_risk               object\n",
              "opinion_h1n1_sick_from_vacc     object\n",
              "opinion_seas_vacc_effective     object\n",
              "opinion_seas_risk               object\n",
              "opinion_seas_sick_from_vacc     object\n",
              "agegrp                          object\n",
              "education_comp                 float64\n",
              "raceeth4_i                       int64\n",
              "sex_i                            int64\n",
              "inc_pov                          int64\n",
              "marital                        float64\n",
              "rent_own_r                     float64\n",
              "employment_status               object\n",
              "census_region                    int64\n",
              "census_msa                      object\n",
              "n_adult_r                      float64\n",
              "household_children             float64\n",
              "n_people_r                     float64\n",
              "employment_industry             object\n",
              "employment_occupation           object\n",
              "hhs_region                       int64\n",
              "state                           object\n",
              "vacc_h1n1_f                      int64\n",
              "dtype: object"
            ]
          },
          "metadata": {
            "tags": []
          },
          "execution_count": 12
        }
      ]
    },
    {
      "cell_type": "code",
      "metadata": {
        "id": "H8YpDYmXzQWR"
      },
      "source": [
        "check = train.T"
      ],
      "execution_count": 13,
      "outputs": []
    },
    {
      "cell_type": "code",
      "metadata": {
        "id": "64fbVJ9Jvoq3",
        "colab": {
          "base_uri": "https://localhost:8080/",
          "height": 347
        },
        "outputId": "fa254608-9615-4d0e-c30c-3872fff7f525"
      },
      "source": [
        "check.loc[['opinion_h1n1_vacc_effective','marital','employment_occupation','state']]"
      ],
      "execution_count": 14,
      "outputs": [
        {
          "output_type": "execute_result",
          "data": {
            "text/html": [
              "<div>\n",
              "<style scoped>\n",
              "    .dataframe tbody tr th:only-of-type {\n",
              "        vertical-align: middle;\n",
              "    }\n",
              "\n",
              "    .dataframe tbody tr th {\n",
              "        vertical-align: top;\n",
              "    }\n",
              "\n",
              "    .dataframe thead th {\n",
              "        text-align: right;\n",
              "    }\n",
              "</style>\n",
              "<table border=\"1\" class=\"dataframe\">\n",
              "  <thead>\n",
              "    <tr style=\"text-align: right;\">\n",
              "      <th></th>\n",
              "      <th>0</th>\n",
              "      <th>1</th>\n",
              "      <th>2</th>\n",
              "      <th>3</th>\n",
              "      <th>4</th>\n",
              "      <th>5</th>\n",
              "      <th>6</th>\n",
              "      <th>7</th>\n",
              "      <th>8</th>\n",
              "      <th>9</th>\n",
              "      <th>10</th>\n",
              "      <th>11</th>\n",
              "      <th>12</th>\n",
              "      <th>13</th>\n",
              "      <th>14</th>\n",
              "      <th>15</th>\n",
              "      <th>16</th>\n",
              "      <th>17</th>\n",
              "      <th>18</th>\n",
              "      <th>19</th>\n",
              "      <th>20</th>\n",
              "      <th>21</th>\n",
              "      <th>22</th>\n",
              "      <th>23</th>\n",
              "      <th>24</th>\n",
              "      <th>25</th>\n",
              "      <th>26</th>\n",
              "      <th>27</th>\n",
              "      <th>28</th>\n",
              "      <th>29</th>\n",
              "      <th>30</th>\n",
              "      <th>31</th>\n",
              "      <th>32</th>\n",
              "      <th>33</th>\n",
              "      <th>34</th>\n",
              "      <th>35</th>\n",
              "      <th>36</th>\n",
              "      <th>37</th>\n",
              "      <th>38</th>\n",
              "      <th>39</th>\n",
              "      <th>...</th>\n",
              "      <th>42114</th>\n",
              "      <th>42115</th>\n",
              "      <th>42116</th>\n",
              "      <th>42117</th>\n",
              "      <th>42118</th>\n",
              "      <th>42119</th>\n",
              "      <th>42120</th>\n",
              "      <th>42121</th>\n",
              "      <th>42122</th>\n",
              "      <th>42123</th>\n",
              "      <th>42124</th>\n",
              "      <th>42125</th>\n",
              "      <th>42126</th>\n",
              "      <th>42127</th>\n",
              "      <th>42128</th>\n",
              "      <th>42129</th>\n",
              "      <th>42130</th>\n",
              "      <th>42131</th>\n",
              "      <th>42132</th>\n",
              "      <th>42133</th>\n",
              "      <th>42134</th>\n",
              "      <th>42135</th>\n",
              "      <th>42136</th>\n",
              "      <th>42137</th>\n",
              "      <th>42138</th>\n",
              "      <th>42139</th>\n",
              "      <th>42140</th>\n",
              "      <th>42141</th>\n",
              "      <th>42142</th>\n",
              "      <th>42143</th>\n",
              "      <th>42144</th>\n",
              "      <th>42145</th>\n",
              "      <th>42146</th>\n",
              "      <th>42147</th>\n",
              "      <th>42148</th>\n",
              "      <th>42149</th>\n",
              "      <th>42150</th>\n",
              "      <th>42151</th>\n",
              "      <th>42152</th>\n",
              "      <th>42153</th>\n",
              "    </tr>\n",
              "  </thead>\n",
              "  <tbody>\n",
              "    <tr>\n",
              "      <th>opinion_h1n1_vacc_effective</th>\n",
              "      <td>NaN</td>\n",
              "      <td>Very Effective</td>\n",
              "      <td>Somewhat Effective</td>\n",
              "      <td>Very Effective</td>\n",
              "      <td>Very Effective</td>\n",
              "      <td>Very Effective</td>\n",
              "      <td>NaN</td>\n",
              "      <td>Not Very Effective</td>\n",
              "      <td>Dont Know</td>\n",
              "      <td>NaN</td>\n",
              "      <td>Not Very Effective</td>\n",
              "      <td>NaN</td>\n",
              "      <td>Somewhat Effective</td>\n",
              "      <td>Very Effective</td>\n",
              "      <td>Somewhat Effective</td>\n",
              "      <td>Dont Know</td>\n",
              "      <td>Dont Know</td>\n",
              "      <td>Somewhat Effective</td>\n",
              "      <td>Somewhat Effective</td>\n",
              "      <td>Not Very Effective</td>\n",
              "      <td>Somewhat Effective</td>\n",
              "      <td>Somewhat Effective</td>\n",
              "      <td>NaN</td>\n",
              "      <td>Dont Know</td>\n",
              "      <td>NaN</td>\n",
              "      <td>NaN</td>\n",
              "      <td>Not At All Effective</td>\n",
              "      <td>NaN</td>\n",
              "      <td>NaN</td>\n",
              "      <td>Somewhat Effective</td>\n",
              "      <td>Somewhat Effective</td>\n",
              "      <td>Not Very Effective</td>\n",
              "      <td>Very Effective</td>\n",
              "      <td>Very Effective</td>\n",
              "      <td>Somewhat Effective</td>\n",
              "      <td>Very Effective</td>\n",
              "      <td>Very Effective</td>\n",
              "      <td>Dont Know</td>\n",
              "      <td>Somewhat Effective</td>\n",
              "      <td>Somewhat Effective</td>\n",
              "      <td>...</td>\n",
              "      <td>Somewhat Effective</td>\n",
              "      <td>Somewhat Effective</td>\n",
              "      <td>Somewhat Effective</td>\n",
              "      <td>Very Effective</td>\n",
              "      <td>Somewhat Effective</td>\n",
              "      <td>Very Effective</td>\n",
              "      <td>Dont Know</td>\n",
              "      <td>Dont Know</td>\n",
              "      <td>Very Effective</td>\n",
              "      <td>Not Very Effective</td>\n",
              "      <td>Somewhat Effective</td>\n",
              "      <td>Very Effective</td>\n",
              "      <td>Somewhat Effective</td>\n",
              "      <td>Not At All Effective</td>\n",
              "      <td>Somewhat Effective</td>\n",
              "      <td>NaN</td>\n",
              "      <td>Somewhat Effective</td>\n",
              "      <td>Not At All Effective</td>\n",
              "      <td>NaN</td>\n",
              "      <td>Somewhat Effective</td>\n",
              "      <td>Somewhat Effective</td>\n",
              "      <td>NaN</td>\n",
              "      <td>NaN</td>\n",
              "      <td>Somewhat Effective</td>\n",
              "      <td>Somewhat Effective</td>\n",
              "      <td>NaN</td>\n",
              "      <td>Somewhat Effective</td>\n",
              "      <td>Very Effective</td>\n",
              "      <td>Somewhat Effective</td>\n",
              "      <td>Somewhat Effective</td>\n",
              "      <td>Somewhat Effective</td>\n",
              "      <td>Very Effective</td>\n",
              "      <td>Dont Know</td>\n",
              "      <td>Dont Know</td>\n",
              "      <td>NaN</td>\n",
              "      <td>Somewhat Effective</td>\n",
              "      <td>Very Effective</td>\n",
              "      <td>Somewhat Effective</td>\n",
              "      <td>Somewhat Effective</td>\n",
              "      <td>NaN</td>\n",
              "    </tr>\n",
              "    <tr>\n",
              "      <th>marital</th>\n",
              "      <td>NaN</td>\n",
              "      <td>2</td>\n",
              "      <td>2</td>\n",
              "      <td>1</td>\n",
              "      <td>1</td>\n",
              "      <td>1</td>\n",
              "      <td>NaN</td>\n",
              "      <td>2</td>\n",
              "      <td>1</td>\n",
              "      <td>NaN</td>\n",
              "      <td>1</td>\n",
              "      <td>NaN</td>\n",
              "      <td>1</td>\n",
              "      <td>2</td>\n",
              "      <td>2</td>\n",
              "      <td>1</td>\n",
              "      <td>1</td>\n",
              "      <td>NaN</td>\n",
              "      <td>1</td>\n",
              "      <td>2</td>\n",
              "      <td>2</td>\n",
              "      <td>1</td>\n",
              "      <td>NaN</td>\n",
              "      <td>1</td>\n",
              "      <td>NaN</td>\n",
              "      <td>NaN</td>\n",
              "      <td>1</td>\n",
              "      <td>NaN</td>\n",
              "      <td>NaN</td>\n",
              "      <td>1</td>\n",
              "      <td>1</td>\n",
              "      <td>2</td>\n",
              "      <td>2</td>\n",
              "      <td>2</td>\n",
              "      <td>1</td>\n",
              "      <td>1</td>\n",
              "      <td>1</td>\n",
              "      <td>2</td>\n",
              "      <td>1</td>\n",
              "      <td>1</td>\n",
              "      <td>...</td>\n",
              "      <td>1</td>\n",
              "      <td>1</td>\n",
              "      <td>2</td>\n",
              "      <td>1</td>\n",
              "      <td>2</td>\n",
              "      <td>2</td>\n",
              "      <td>2</td>\n",
              "      <td>NaN</td>\n",
              "      <td>2</td>\n",
              "      <td>NaN</td>\n",
              "      <td>1</td>\n",
              "      <td>1</td>\n",
              "      <td>1</td>\n",
              "      <td>2</td>\n",
              "      <td>1</td>\n",
              "      <td>NaN</td>\n",
              "      <td>1</td>\n",
              "      <td>1</td>\n",
              "      <td>NaN</td>\n",
              "      <td>2</td>\n",
              "      <td>2</td>\n",
              "      <td>NaN</td>\n",
              "      <td>NaN</td>\n",
              "      <td>2</td>\n",
              "      <td>1</td>\n",
              "      <td>NaN</td>\n",
              "      <td>2</td>\n",
              "      <td>1</td>\n",
              "      <td>2</td>\n",
              "      <td>2</td>\n",
              "      <td>1</td>\n",
              "      <td>1</td>\n",
              "      <td>1</td>\n",
              "      <td>2</td>\n",
              "      <td>NaN</td>\n",
              "      <td>1</td>\n",
              "      <td>1</td>\n",
              "      <td>2</td>\n",
              "      <td>1</td>\n",
              "      <td>NaN</td>\n",
              "    </tr>\n",
              "    <tr>\n",
              "      <th>employment_occupation</th>\n",
              "      <td>NaN</td>\n",
              "      <td>Food Preparation and Serving Related Occupations</td>\n",
              "      <td>Transportation and Material Moving Occupations</td>\n",
              "      <td>Legal Occupations</td>\n",
              "      <td>Office and Administrative Support Occupations</td>\n",
              "      <td>Not ascertained</td>\n",
              "      <td>NaN</td>\n",
              "      <td>Management Occupations</td>\n",
              "      <td>Transportation and Material Moving Occupations</td>\n",
              "      <td>NaN</td>\n",
              "      <td>NaN</td>\n",
              "      <td>NaN</td>\n",
              "      <td>Architecture and Engineering Occupations</td>\n",
              "      <td>Business and Financial Operations Occupations</td>\n",
              "      <td>Building and Grounds Cleaning and Maintenance ...</td>\n",
              "      <td>Sales and Related Occupations</td>\n",
              "      <td>NaN</td>\n",
              "      <td>NaN</td>\n",
              "      <td>Life, Physical, and Social Science Occupations</td>\n",
              "      <td>NaN</td>\n",
              "      <td>Education, Training, and Library Occupations</td>\n",
              "      <td>NaN</td>\n",
              "      <td>NaN</td>\n",
              "      <td>Arts, Design, Entertainment, Sports and Media ...</td>\n",
              "      <td>NaN</td>\n",
              "      <td>NaN</td>\n",
              "      <td>NaN</td>\n",
              "      <td>NaN</td>\n",
              "      <td>NaN</td>\n",
              "      <td>Food Preparation and Serving Related Occupations</td>\n",
              "      <td>Arts, Design, Entertainment, Sports and Media ...</td>\n",
              "      <td>Food Preparation and Serving Related Occupations</td>\n",
              "      <td>NaN</td>\n",
              "      <td>Management Occupations</td>\n",
              "      <td>Business and Financial Operations Occupations</td>\n",
              "      <td>NaN</td>\n",
              "      <td>NaN</td>\n",
              "      <td>NaN</td>\n",
              "      <td>NaN</td>\n",
              "      <td>Office and Administrative Support Occupations</td>\n",
              "      <td>...</td>\n",
              "      <td>Architecture and Engineering Occupations</td>\n",
              "      <td>NaN</td>\n",
              "      <td>Sales and Related Occupations</td>\n",
              "      <td>NaN</td>\n",
              "      <td>Sales and Related Occupations</td>\n",
              "      <td>Healthcare Practitioners and Technical Occupat...</td>\n",
              "      <td>NaN</td>\n",
              "      <td>NaN</td>\n",
              "      <td>Sales and Related Occupations</td>\n",
              "      <td>NaN</td>\n",
              "      <td>NaN</td>\n",
              "      <td>Not ascertained</td>\n",
              "      <td>NaN</td>\n",
              "      <td>Healthcare Support Occupations</td>\n",
              "      <td>NaN</td>\n",
              "      <td>NaN</td>\n",
              "      <td>Not ascertained</td>\n",
              "      <td>NaN</td>\n",
              "      <td>NaN</td>\n",
              "      <td>NaN</td>\n",
              "      <td>Management Occupations</td>\n",
              "      <td>NaN</td>\n",
              "      <td>NaN</td>\n",
              "      <td>Office and Administrative Support Occupations</td>\n",
              "      <td>Management Occupations</td>\n",
              "      <td>NaN</td>\n",
              "      <td>NaN</td>\n",
              "      <td>Transportation and Material Moving Occupations</td>\n",
              "      <td>Healthcare Support Occupations</td>\n",
              "      <td>Business and Financial Operations Occupations</td>\n",
              "      <td>NaN</td>\n",
              "      <td>Education, Training, and Library Occupations</td>\n",
              "      <td>Sales and Related Occupations</td>\n",
              "      <td>Business and Financial Operations Occupations</td>\n",
              "      <td>NaN</td>\n",
              "      <td>NaN</td>\n",
              "      <td>Healthcare Practitioners and Technical Occupat...</td>\n",
              "      <td>Office and Administrative Support Occupations</td>\n",
              "      <td>Healthcare Practitioners and Technical Occupat...</td>\n",
              "      <td>NaN</td>\n",
              "    </tr>\n",
              "    <tr>\n",
              "      <th>state</th>\n",
              "      <td>CALIFORNIA</td>\n",
              "      <td>NEBRASKA</td>\n",
              "      <td>MASSACHUSETTS</td>\n",
              "      <td>LOUISIANA</td>\n",
              "      <td>ALABAMA</td>\n",
              "      <td>MONTANA</td>\n",
              "      <td>MISSOURI</td>\n",
              "      <td>MISSOURI</td>\n",
              "      <td>WISCONSIN</td>\n",
              "      <td>FLORIDA</td>\n",
              "      <td>MISSOURI</td>\n",
              "      <td>ALABAMA</td>\n",
              "      <td>MASSACHUSETTS</td>\n",
              "      <td>MARYLAND</td>\n",
              "      <td>NEVADA</td>\n",
              "      <td>LOUISIANA</td>\n",
              "      <td>PENNSYLVANIA</td>\n",
              "      <td>FLORIDA</td>\n",
              "      <td>RHODE ISLAND</td>\n",
              "      <td>ARIZONA</td>\n",
              "      <td>MAINE</td>\n",
              "      <td>SOUTH DAKOTA</td>\n",
              "      <td>WYOMING</td>\n",
              "      <td>CONNECTICUT</td>\n",
              "      <td>NEVADA</td>\n",
              "      <td>RHODE ISLAND</td>\n",
              "      <td>DELAWARE</td>\n",
              "      <td>SOUTH DAKOTA</td>\n",
              "      <td>NEW YORK</td>\n",
              "      <td>SOUTH CAROLINA</td>\n",
              "      <td>ALABAMA</td>\n",
              "      <td>NEW JERSEY</td>\n",
              "      <td>NORTH CAROLINA</td>\n",
              "      <td>DISTRICTOF COLUMBIA</td>\n",
              "      <td>NEW HAMPSHIRE</td>\n",
              "      <td>SOUTH CAROLINA</td>\n",
              "      <td>TEXAS</td>\n",
              "      <td>MAINE</td>\n",
              "      <td>OREGON</td>\n",
              "      <td>KENTUCKY</td>\n",
              "      <td>...</td>\n",
              "      <td>NEBRASKA</td>\n",
              "      <td>WASHINGTON</td>\n",
              "      <td>NEVADA</td>\n",
              "      <td>MICHIGAN</td>\n",
              "      <td>MARYLAND</td>\n",
              "      <td>VIRGINIA</td>\n",
              "      <td>OREGON</td>\n",
              "      <td>RHODE ISLAND</td>\n",
              "      <td>MARYLAND</td>\n",
              "      <td>DISTRICTOF COLUMBIA</td>\n",
              "      <td>MINNESOTA</td>\n",
              "      <td>SOUTH CAROLINA</td>\n",
              "      <td>OKLAHOMA</td>\n",
              "      <td>DELAWARE</td>\n",
              "      <td>SOUTH CAROLINA</td>\n",
              "      <td>WISCONSIN</td>\n",
              "      <td>VERMONT</td>\n",
              "      <td>MAINE</td>\n",
              "      <td>ARKANSAS</td>\n",
              "      <td>SOUTH CAROLINA</td>\n",
              "      <td>IDAHO</td>\n",
              "      <td>CALIFORNIA</td>\n",
              "      <td>NEBRASKA</td>\n",
              "      <td>WASHINGTON</td>\n",
              "      <td>NEW JERSEY</td>\n",
              "      <td>GEORGIA</td>\n",
              "      <td>LOUISIANA</td>\n",
              "      <td>HAWAII</td>\n",
              "      <td>NORTH DAKOTA</td>\n",
              "      <td>DELAWARE</td>\n",
              "      <td>OKLAHOMA</td>\n",
              "      <td>MARYLAND</td>\n",
              "      <td>UTAH</td>\n",
              "      <td>TEXAS</td>\n",
              "      <td>CONNECTICUT</td>\n",
              "      <td>TEXAS</td>\n",
              "      <td>VIRGINIA</td>\n",
              "      <td>TENNESSEE</td>\n",
              "      <td>GEORGIA</td>\n",
              "      <td>WISCONSIN</td>\n",
              "    </tr>\n",
              "  </tbody>\n",
              "</table>\n",
              "<p>4 rows × 42154 columns</p>\n",
              "</div>"
            ],
            "text/plain": [
              "                                  0      ...      42153\n",
              "opinion_h1n1_vacc_effective         NaN  ...        NaN\n",
              "marital                             NaN  ...        NaN\n",
              "employment_occupation               NaN  ...        NaN\n",
              "state                        CALIFORNIA  ...  WISCONSIN\n",
              "\n",
              "[4 rows x 42154 columns]"
            ]
          },
          "metadata": {
            "tags": []
          },
          "execution_count": 14
        }
      ]
    },
    {
      "cell_type": "code",
      "metadata": {
        "id": "atGheNxeb3vr",
        "colab": {
          "base_uri": "https://localhost:8080/"
        },
        "outputId": "572b4a6c-26a1-4b92-b1d1-c2f79a759f20"
      },
      "source": [
        "train['opinion_h1n1_vacc_effective'].unique()"
      ],
      "execution_count": 15,
      "outputs": [
        {
          "output_type": "execute_result",
          "data": {
            "text/plain": [
              "array([nan, 'Very Effective', 'Somewhat Effective', 'Not Very Effective',\n",
              "       'Dont Know', 'Not At All Effective', 'Refused'], dtype=object)"
            ]
          },
          "metadata": {
            "tags": []
          },
          "execution_count": 15
        }
      ]
    },
    {
      "cell_type": "code",
      "metadata": {
        "id": "8tOb6EYUvRYm",
        "colab": {
          "base_uri": "https://localhost:8080/"
        },
        "outputId": "54d45ba4-2e03-486c-83cf-34cacdeaeb0b"
      },
      "source": [
        "! pip install --upgrade category_encoders"
      ],
      "execution_count": 16,
      "outputs": [
        {
          "output_type": "stream",
          "text": [
            "Collecting category_encoders\n",
            "\u001b[?25l  Downloading https://files.pythonhosted.org/packages/44/57/fcef41c248701ee62e8325026b90c432adea35555cbc870aff9cfba23727/category_encoders-2.2.2-py2.py3-none-any.whl (80kB)\n",
            "\r\u001b[K     |████                            | 10kB 15.9MB/s eta 0:00:01\r\u001b[K     |████████▏                       | 20kB 9.3MB/s eta 0:00:01\r\u001b[K     |████████████▏                   | 30kB 8.1MB/s eta 0:00:01\r\u001b[K     |████████████████▎               | 40kB 7.5MB/s eta 0:00:01\r\u001b[K     |████████████████████▎           | 51kB 4.2MB/s eta 0:00:01\r\u001b[K     |████████████████████████▍       | 61kB 4.5MB/s eta 0:00:01\r\u001b[K     |████████████████████████████▍   | 71kB 4.9MB/s eta 0:00:01\r\u001b[K     |████████████████████████████████| 81kB 3.5MB/s \n",
            "\u001b[?25hRequirement already satisfied, skipping upgrade: patsy>=0.5.1 in /usr/local/lib/python3.7/dist-packages (from category_encoders) (0.5.1)\n",
            "Requirement already satisfied, skipping upgrade: statsmodels>=0.9.0 in /usr/local/lib/python3.7/dist-packages (from category_encoders) (0.10.2)\n",
            "Requirement already satisfied, skipping upgrade: scipy>=1.0.0 in /usr/local/lib/python3.7/dist-packages (from category_encoders) (1.4.1)\n",
            "Requirement already satisfied, skipping upgrade: scikit-learn>=0.20.0 in /usr/local/lib/python3.7/dist-packages (from category_encoders) (0.22.2.post1)\n",
            "Requirement already satisfied, skipping upgrade: numpy>=1.14.0 in /usr/local/lib/python3.7/dist-packages (from category_encoders) (1.19.5)\n",
            "Requirement already satisfied, skipping upgrade: pandas>=0.21.1 in /usr/local/lib/python3.7/dist-packages (from category_encoders) (1.1.5)\n",
            "Requirement already satisfied, skipping upgrade: six in /usr/local/lib/python3.7/dist-packages (from patsy>=0.5.1->category_encoders) (1.15.0)\n",
            "Requirement already satisfied, skipping upgrade: joblib>=0.11 in /usr/local/lib/python3.7/dist-packages (from scikit-learn>=0.20.0->category_encoders) (1.0.1)\n",
            "Requirement already satisfied, skipping upgrade: pytz>=2017.2 in /usr/local/lib/python3.7/dist-packages (from pandas>=0.21.1->category_encoders) (2018.9)\n",
            "Requirement already satisfied, skipping upgrade: python-dateutil>=2.7.3 in /usr/local/lib/python3.7/dist-packages (from pandas>=0.21.1->category_encoders) (2.8.1)\n",
            "Installing collected packages: category-encoders\n",
            "Successfully installed category-encoders-2.2.2\n"
          ],
          "name": "stdout"
        }
      ]
    },
    {
      "cell_type": "code",
      "metadata": {
        "id": "FBqnALB3bxxv",
        "colab": {
          "base_uri": "https://localhost:8080/"
        },
        "outputId": "ec3a8f3d-402f-4e45-9f31-a141c2ef7fd8"
      },
      "source": [
        "from category_encoders import OrdinalEncoder\n",
        "enc = OrdinalEncoder(handle_missing=\"value\")\n",
        "X = [['Very Effective', 6,'Yes'], ['Somewhat Effective', 5,'Yes'], ['Not Very Effective',4,'No'], ['Dont Know',3,'None'],\n",
        "      ['Not At All Effective',2,'No'], ['Refused',1,'No']]\n",
        "enc.fit(X)"
      ],
      "execution_count": 17,
      "outputs": [
        {
          "output_type": "stream",
          "text": [
            "/usr/local/lib/python3.7/dist-packages/statsmodels/tools/_testing.py:19: FutureWarning: pandas.util.testing is deprecated. Use the functions in the public API at pandas.testing instead.\n",
            "  import pandas.util.testing as tm\n"
          ],
          "name": "stderr"
        },
        {
          "output_type": "execute_result",
          "data": {
            "text/plain": [
              "OrdinalEncoder(cols=[0, 2], drop_invariant=False, handle_missing='value',\n",
              "               handle_unknown='value',\n",
              "               mapping=[{'col': 0, 'data_type': dtype('O'),\n",
              "                         'mapping': Very Effective          1\n",
              "Somewhat Effective      2\n",
              "Not Very Effective      3\n",
              "Dont Know               4\n",
              "Not At All Effective    5\n",
              "Refused                 6\n",
              "NaN                    -2\n",
              "dtype: int64},\n",
              "                        {'col': 2, 'data_type': dtype('O'),\n",
              "                         'mapping': Yes     1\n",
              "No      2\n",
              "None    3\n",
              "NaN    -2\n",
              "dtype: int64}],\n",
              "               return_df=True, verbose=0)"
            ]
          },
          "metadata": {
            "tags": []
          },
          "execution_count": 17
        }
      ]
    },
    {
      "cell_type": "code",
      "metadata": {
        "id": "RlG57nqxjqj4",
        "colab": {
          "base_uri": "https://localhost:8080/",
          "height": 230
        },
        "outputId": "3135a272-9315-4b94-af5c-968536630aa2"
      },
      "source": [
        "enc.transform( [['Very Effective', 6,'Yes'], ['Somewhat Effective', 5,'Yes'], ['Not Very Effective',4,'No'], ['Dont Know',3,'None'],\n",
        "      ['Not At All Effective',2,'No'], ['Refused',1,'No']])"
      ],
      "execution_count": 18,
      "outputs": [
        {
          "output_type": "execute_result",
          "data": {
            "text/html": [
              "<div>\n",
              "<style scoped>\n",
              "    .dataframe tbody tr th:only-of-type {\n",
              "        vertical-align: middle;\n",
              "    }\n",
              "\n",
              "    .dataframe tbody tr th {\n",
              "        vertical-align: top;\n",
              "    }\n",
              "\n",
              "    .dataframe thead th {\n",
              "        text-align: right;\n",
              "    }\n",
              "</style>\n",
              "<table border=\"1\" class=\"dataframe\">\n",
              "  <thead>\n",
              "    <tr style=\"text-align: right;\">\n",
              "      <th></th>\n",
              "      <th>0</th>\n",
              "      <th>1</th>\n",
              "      <th>2</th>\n",
              "    </tr>\n",
              "  </thead>\n",
              "  <tbody>\n",
              "    <tr>\n",
              "      <th>0</th>\n",
              "      <td>1</td>\n",
              "      <td>6</td>\n",
              "      <td>1</td>\n",
              "    </tr>\n",
              "    <tr>\n",
              "      <th>1</th>\n",
              "      <td>2</td>\n",
              "      <td>5</td>\n",
              "      <td>1</td>\n",
              "    </tr>\n",
              "    <tr>\n",
              "      <th>2</th>\n",
              "      <td>3</td>\n",
              "      <td>4</td>\n",
              "      <td>2</td>\n",
              "    </tr>\n",
              "    <tr>\n",
              "      <th>3</th>\n",
              "      <td>4</td>\n",
              "      <td>3</td>\n",
              "      <td>3</td>\n",
              "    </tr>\n",
              "    <tr>\n",
              "      <th>4</th>\n",
              "      <td>5</td>\n",
              "      <td>2</td>\n",
              "      <td>2</td>\n",
              "    </tr>\n",
              "    <tr>\n",
              "      <th>5</th>\n",
              "      <td>6</td>\n",
              "      <td>1</td>\n",
              "      <td>2</td>\n",
              "    </tr>\n",
              "  </tbody>\n",
              "</table>\n",
              "</div>"
            ],
            "text/plain": [
              "   0  1  2\n",
              "0  1  6  1\n",
              "1  2  5  1\n",
              "2  3  4  2\n",
              "3  4  3  3\n",
              "4  5  2  2\n",
              "5  6  1  2"
            ]
          },
          "metadata": {
            "tags": []
          },
          "execution_count": 18
        }
      ]
    },
    {
      "cell_type": "code",
      "metadata": {
        "id": "I5hUl579j0P8",
        "colab": {
          "base_uri": "https://localhost:8080/"
        },
        "outputId": "c7fadb6d-f5cf-4264-a98f-45f299a32a16"
      },
      "source": [
        "enc.category_mapping"
      ],
      "execution_count": 19,
      "outputs": [
        {
          "output_type": "execute_result",
          "data": {
            "text/plain": [
              "[{'col': 0, 'data_type': dtype('O'), 'mapping': Very Effective          1\n",
              "  Somewhat Effective      2\n",
              "  Not Very Effective      3\n",
              "  Dont Know               4\n",
              "  Not At All Effective    5\n",
              "  Refused                 6\n",
              "  NaN                    -2\n",
              "  dtype: int64}, {'col': 2, 'data_type': dtype('O'), 'mapping': Yes     1\n",
              "  No      2\n",
              "  None    3\n",
              "  NaN    -2\n",
              "  dtype: int64}]"
            ]
          },
          "metadata": {
            "tags": []
          },
          "execution_count": 19
        }
      ]
    },
    {
      "cell_type": "code",
      "metadata": {
        "id": "BaQGPenrxnun",
        "colab": {
          "base_uri": "https://localhost:8080/"
        },
        "outputId": "712ab9a0-7bb0-40a3-b637-5e90dc805e50"
      },
      "source": [
        "test.dtypes"
      ],
      "execution_count": 20,
      "outputs": [
        {
          "output_type": "execute_result",
          "data": {
            "text/plain": [
              "h1n1_concern                   float64\n",
              "h1n1_knowledge                 float64\n",
              "behavioral_antiviral_meds      float64\n",
              "behavioral_avoidance           float64\n",
              "behavioral_face_mask           float64\n",
              "behavioral_wash_hands          float64\n",
              "behavioral_large_gatherings    float64\n",
              "behavioral_outside_home        float64\n",
              "behavioral_touch_face          float64\n",
              "doctor_recc_h1n1               float64\n",
              "doctor_recc_seasonal           float64\n",
              "chronic_med_condition          float64\n",
              "child_under_6_months           float64\n",
              "health_insurance               float64\n",
              "health_worker                  float64\n",
              "opinion_h1n1_vacc_effective     object\n",
              "opinion_h1n1_risk               object\n",
              "opinion_h1n1_sick_from_vacc     object\n",
              "opinion_seas_vacc_effective     object\n",
              "opinion_seas_risk               object\n",
              "opinion_seas_sick_from_vacc     object\n",
              "agegrp                          object\n",
              "education_comp                 float64\n",
              "raceeth4_i                       int64\n",
              "sex_i                            int64\n",
              "inc_pov                          int64\n",
              "marital                        float64\n",
              "rent_own_r                     float64\n",
              "employment_status               object\n",
              "census_region                    int64\n",
              "census_msa                      object\n",
              "n_adult_r                      float64\n",
              "household_children             float64\n",
              "n_people_r                     float64\n",
              "employment_industry             object\n",
              "employment_occupation           object\n",
              "hhs_region                       int64\n",
              "state                           object\n",
              "dtype: object"
            ]
          },
          "metadata": {
            "tags": []
          },
          "execution_count": 20
        }
      ]
    },
    {
      "cell_type": "code",
      "metadata": {
        "id": "qt3DqM06uNov",
        "colab": {
          "base_uri": "https://localhost:8080/"
        },
        "outputId": "52313b58-4b56-48c8-9483-2385beb0d05b"
      },
      "source": [
        "from sklearn.model_selection import train_test_split\n",
        "train, val = train_test_split(train, train_size=0.80, test_size=0.20, \n",
        "                              stratify=train[target], random_state=2)\n",
        "\n",
        "\n",
        "train.shape, val.shape, test.shape"
      ],
      "execution_count": 21,
      "outputs": [
        {
          "output_type": "execute_result",
          "data": {
            "text/plain": [
              "((33723, 39), (8431, 39), (28104, 38))"
            ]
          },
          "metadata": {
            "tags": []
          },
          "execution_count": 21
        }
      ]
    },
    {
      "cell_type": "code",
      "metadata": {
        "id": "Z1PxWgJmuQXd"
      },
      "source": [
        "def engineer(df):\n",
        "    \"\"\"특성을 엔지니어링 하는 함수입니다.\"\"\"\n",
        "    \n",
        "    # 높은 카디널리티를 가지는 특성을 제거합니다.\n",
        "    selected_cols = df.select_dtypes(include=['number', 'object'])\n",
        "    colnames = selected_cols.columns.tolist()\n",
        "    labels = selected_cols.nunique()\n",
        "    \n",
        "    selected_features = labels[labels <= 30].index.tolist()\n",
        "    df = df[selected_features]\n",
        "    \n",
        "    # 새로운 특성을 생성합니다.\n",
        "    behaviorals = [col for col in df.columns if 'behavioral' in col] \n",
        "    df['behaviorals'] = df[behaviorals].sum(axis=1)\n",
        "    \n",
        "    \n",
        "    dels = [col for col in df.columns if ('employment' in col or 'seas' in col)]\n",
        "    df.drop(columns=dels, inplace=True)\n",
        "        \n",
        "    return df\n",
        "\n",
        "\n",
        "train = engineer(train)\n",
        "val = engineer(val)\n",
        "test = engineer(test)"
      ],
      "execution_count": 22,
      "outputs": []
    },
    {
      "cell_type": "code",
      "metadata": {
        "id": "qszf_y4VuRLM"
      },
      "source": [
        "features = train.drop(columns=[target]).columns\n",
        "\n",
        "X_train = train[features]\n",
        "y_train = train[target]\n",
        "X_val = val[features]\n",
        "y_val = val[target]\n",
        "X_test = test[features]"
      ],
      "execution_count": 23,
      "outputs": []
    },
    {
      "cell_type": "code",
      "metadata": {
        "id": "IDz8_wbMj7RK",
        "colab": {
          "base_uri": "https://localhost:8080/"
        },
        "outputId": "53452cd5-71a5-40a1-ea72-6372031bcfb5"
      },
      "source": [
        "\n",
        "%%time\n",
        "from category_encoders import OneHotEncoder\n",
        "from sklearn.ensemble import RandomForestClassifier\n",
        "from sklearn.impute import SimpleImputer \n",
        "from sklearn.pipeline import make_pipeline\n",
        "\n",
        "# ordinal encoding\n",
        "pipe_ord = make_pipeline(\n",
        "    OrdinalEncoder(), \n",
        "    SimpleImputer(), \n",
        "    RandomForestClassifier(random_state=10, n_jobs=-1, oob_score=True)\n",
        ")\n",
        "\n",
        "pipe_ord.fit(X_train, y_train)\n",
        "print('검증 정확도', pipe_ord.score(X_val, y_val))"
      ],
      "execution_count": 24,
      "outputs": [
        {
          "output_type": "stream",
          "text": [
            "검증 정확도 0.8239829201755426\n",
            "CPU times: user 6.73 s, sys: 169 ms, total: 6.9 s\n",
            "Wall time: 4.2 s\n"
          ],
          "name": "stdout"
        }
      ]
    },
    {
      "cell_type": "code",
      "metadata": {
        "id": "w6t2YRs4umrn",
        "colab": {
          "base_uri": "https://localhost:8080/",
          "height": 986
        },
        "outputId": "8d3d01fc-0a8b-4585-9a29-9137371d9ae2"
      },
      "source": [
        "practice = X_train.head().T\n",
        "practice"
      ],
      "execution_count": 25,
      "outputs": [
        {
          "output_type": "execute_result",
          "data": {
            "text/html": [
              "<div>\n",
              "<style scoped>\n",
              "    .dataframe tbody tr th:only-of-type {\n",
              "        vertical-align: middle;\n",
              "    }\n",
              "\n",
              "    .dataframe tbody tr th {\n",
              "        vertical-align: top;\n",
              "    }\n",
              "\n",
              "    .dataframe thead th {\n",
              "        text-align: right;\n",
              "    }\n",
              "</style>\n",
              "<table border=\"1\" class=\"dataframe\">\n",
              "  <thead>\n",
              "    <tr style=\"text-align: right;\">\n",
              "      <th></th>\n",
              "      <th>20365</th>\n",
              "      <th>29138</th>\n",
              "      <th>36128</th>\n",
              "      <th>39793</th>\n",
              "      <th>32973</th>\n",
              "    </tr>\n",
              "  </thead>\n",
              "  <tbody>\n",
              "    <tr>\n",
              "      <th>h1n1_concern</th>\n",
              "      <td>1</td>\n",
              "      <td>1</td>\n",
              "      <td>2</td>\n",
              "      <td>2</td>\n",
              "      <td>0</td>\n",
              "    </tr>\n",
              "    <tr>\n",
              "      <th>h1n1_knowledge</th>\n",
              "      <td>1</td>\n",
              "      <td>1</td>\n",
              "      <td>2</td>\n",
              "      <td>1</td>\n",
              "      <td>1</td>\n",
              "    </tr>\n",
              "    <tr>\n",
              "      <th>behavioral_antiviral_meds</th>\n",
              "      <td>0</td>\n",
              "      <td>0</td>\n",
              "      <td>0</td>\n",
              "      <td>0</td>\n",
              "      <td>0</td>\n",
              "    </tr>\n",
              "    <tr>\n",
              "      <th>behavioral_avoidance</th>\n",
              "      <td>0</td>\n",
              "      <td>1</td>\n",
              "      <td>1</td>\n",
              "      <td>1</td>\n",
              "      <td>0</td>\n",
              "    </tr>\n",
              "    <tr>\n",
              "      <th>behavioral_face_mask</th>\n",
              "      <td>0</td>\n",
              "      <td>0</td>\n",
              "      <td>0</td>\n",
              "      <td>0</td>\n",
              "      <td>0</td>\n",
              "    </tr>\n",
              "    <tr>\n",
              "      <th>behavioral_wash_hands</th>\n",
              "      <td>0</td>\n",
              "      <td>1</td>\n",
              "      <td>1</td>\n",
              "      <td>1</td>\n",
              "      <td>0</td>\n",
              "    </tr>\n",
              "    <tr>\n",
              "      <th>behavioral_large_gatherings</th>\n",
              "      <td>0</td>\n",
              "      <td>1</td>\n",
              "      <td>1</td>\n",
              "      <td>0</td>\n",
              "      <td>0</td>\n",
              "    </tr>\n",
              "    <tr>\n",
              "      <th>behavioral_outside_home</th>\n",
              "      <td>0</td>\n",
              "      <td>1</td>\n",
              "      <td>1</td>\n",
              "      <td>0</td>\n",
              "      <td>0</td>\n",
              "    </tr>\n",
              "    <tr>\n",
              "      <th>behavioral_touch_face</th>\n",
              "      <td>0</td>\n",
              "      <td>1</td>\n",
              "      <td>0</td>\n",
              "      <td>1</td>\n",
              "      <td>0</td>\n",
              "    </tr>\n",
              "    <tr>\n",
              "      <th>doctor_recc_h1n1</th>\n",
              "      <td>0</td>\n",
              "      <td>1</td>\n",
              "      <td>0</td>\n",
              "      <td>0</td>\n",
              "      <td>0</td>\n",
              "    </tr>\n",
              "    <tr>\n",
              "      <th>chronic_med_condition</th>\n",
              "      <td>1</td>\n",
              "      <td>0</td>\n",
              "      <td>1</td>\n",
              "      <td>0</td>\n",
              "      <td>0</td>\n",
              "    </tr>\n",
              "    <tr>\n",
              "      <th>child_under_6_months</th>\n",
              "      <td>0</td>\n",
              "      <td>0</td>\n",
              "      <td>0</td>\n",
              "      <td>0</td>\n",
              "      <td>0</td>\n",
              "    </tr>\n",
              "    <tr>\n",
              "      <th>health_insurance</th>\n",
              "      <td>NaN</td>\n",
              "      <td>1</td>\n",
              "      <td>1</td>\n",
              "      <td>1</td>\n",
              "      <td>NaN</td>\n",
              "    </tr>\n",
              "    <tr>\n",
              "      <th>health_worker</th>\n",
              "      <td>0</td>\n",
              "      <td>0</td>\n",
              "      <td>0</td>\n",
              "      <td>0</td>\n",
              "      <td>0</td>\n",
              "    </tr>\n",
              "    <tr>\n",
              "      <th>opinion_h1n1_vacc_effective</th>\n",
              "      <td>Somewhat Effective</td>\n",
              "      <td>Somewhat Effective</td>\n",
              "      <td>Not Very Effective</td>\n",
              "      <td>Very Effective</td>\n",
              "      <td>Not At All Effective</td>\n",
              "    </tr>\n",
              "    <tr>\n",
              "      <th>opinion_h1n1_risk</th>\n",
              "      <td>Somewhat Low</td>\n",
              "      <td>Somewhat High</td>\n",
              "      <td>Very Low</td>\n",
              "      <td>Somewhat Low</td>\n",
              "      <td>Somewhat Low</td>\n",
              "    </tr>\n",
              "    <tr>\n",
              "      <th>opinion_h1n1_sick_from_vacc</th>\n",
              "      <td>Not At All Worried</td>\n",
              "      <td>Not Very Worried</td>\n",
              "      <td>Dont Know</td>\n",
              "      <td>Not Very Worried</td>\n",
              "      <td>Not At All Worried</td>\n",
              "    </tr>\n",
              "    <tr>\n",
              "      <th>agegrp</th>\n",
              "      <td>18 - 34 Years</td>\n",
              "      <td>35 - 44 Years</td>\n",
              "      <td>65+ Years</td>\n",
              "      <td>55 - 64 Years</td>\n",
              "      <td>18 - 34 Years</td>\n",
              "    </tr>\n",
              "    <tr>\n",
              "      <th>education_comp</th>\n",
              "      <td>4</td>\n",
              "      <td>2</td>\n",
              "      <td>1</td>\n",
              "      <td>4</td>\n",
              "      <td>4</td>\n",
              "    </tr>\n",
              "    <tr>\n",
              "      <th>raceeth4_i</th>\n",
              "      <td>3</td>\n",
              "      <td>3</td>\n",
              "      <td>3</td>\n",
              "      <td>3</td>\n",
              "      <td>3</td>\n",
              "    </tr>\n",
              "    <tr>\n",
              "      <th>sex_i</th>\n",
              "      <td>1</td>\n",
              "      <td>2</td>\n",
              "      <td>2</td>\n",
              "      <td>1</td>\n",
              "      <td>2</td>\n",
              "    </tr>\n",
              "    <tr>\n",
              "      <th>inc_pov</th>\n",
              "      <td>1</td>\n",
              "      <td>3</td>\n",
              "      <td>2</td>\n",
              "      <td>1</td>\n",
              "      <td>2</td>\n",
              "    </tr>\n",
              "    <tr>\n",
              "      <th>marital</th>\n",
              "      <td>2</td>\n",
              "      <td>2</td>\n",
              "      <td>2</td>\n",
              "      <td>1</td>\n",
              "      <td>1</td>\n",
              "    </tr>\n",
              "    <tr>\n",
              "      <th>rent_own_r</th>\n",
              "      <td>1</td>\n",
              "      <td>2</td>\n",
              "      <td>1</td>\n",
              "      <td>1</td>\n",
              "      <td>1</td>\n",
              "    </tr>\n",
              "    <tr>\n",
              "      <th>census_region</th>\n",
              "      <td>1</td>\n",
              "      <td>2</td>\n",
              "      <td>4</td>\n",
              "      <td>2</td>\n",
              "      <td>2</td>\n",
              "    </tr>\n",
              "    <tr>\n",
              "      <th>census_msa</th>\n",
              "      <td>MSA, Not Principle City</td>\n",
              "      <td>Non-MSA</td>\n",
              "      <td>MSA, Not Principle City</td>\n",
              "      <td>MSA, Principle City</td>\n",
              "      <td>Non-MSA</td>\n",
              "    </tr>\n",
              "    <tr>\n",
              "      <th>n_adult_r</th>\n",
              "      <td>4</td>\n",
              "      <td>2</td>\n",
              "      <td>1</td>\n",
              "      <td>2</td>\n",
              "      <td>2</td>\n",
              "    </tr>\n",
              "    <tr>\n",
              "      <th>household_children</th>\n",
              "      <td>0</td>\n",
              "      <td>2</td>\n",
              "      <td>0</td>\n",
              "      <td>0</td>\n",
              "      <td>3</td>\n",
              "    </tr>\n",
              "    <tr>\n",
              "      <th>n_people_r</th>\n",
              "      <td>4</td>\n",
              "      <td>4</td>\n",
              "      <td>1</td>\n",
              "      <td>2</td>\n",
              "      <td>5</td>\n",
              "    </tr>\n",
              "    <tr>\n",
              "      <th>hhs_region</th>\n",
              "      <td>2</td>\n",
              "      <td>7</td>\n",
              "      <td>10</td>\n",
              "      <td>7</td>\n",
              "      <td>7</td>\n",
              "    </tr>\n",
              "    <tr>\n",
              "      <th>behaviorals</th>\n",
              "      <td>0</td>\n",
              "      <td>5</td>\n",
              "      <td>4</td>\n",
              "      <td>3</td>\n",
              "      <td>0</td>\n",
              "    </tr>\n",
              "  </tbody>\n",
              "</table>\n",
              "</div>"
            ],
            "text/plain": [
              "                                               20365  ...                 32973\n",
              "h1n1_concern                                       1  ...                     0\n",
              "h1n1_knowledge                                     1  ...                     1\n",
              "behavioral_antiviral_meds                          0  ...                     0\n",
              "behavioral_avoidance                               0  ...                     0\n",
              "behavioral_face_mask                               0  ...                     0\n",
              "behavioral_wash_hands                              0  ...                     0\n",
              "behavioral_large_gatherings                        0  ...                     0\n",
              "behavioral_outside_home                            0  ...                     0\n",
              "behavioral_touch_face                              0  ...                     0\n",
              "doctor_recc_h1n1                                   0  ...                     0\n",
              "chronic_med_condition                              1  ...                     0\n",
              "child_under_6_months                               0  ...                     0\n",
              "health_insurance                                 NaN  ...                   NaN\n",
              "health_worker                                      0  ...                     0\n",
              "opinion_h1n1_vacc_effective       Somewhat Effective  ...  Not At All Effective\n",
              "opinion_h1n1_risk                       Somewhat Low  ...          Somewhat Low\n",
              "opinion_h1n1_sick_from_vacc       Not At All Worried  ...    Not At All Worried\n",
              "agegrp                                 18 - 34 Years  ...         18 - 34 Years\n",
              "education_comp                                     4  ...                     4\n",
              "raceeth4_i                                         3  ...                     3\n",
              "sex_i                                              1  ...                     2\n",
              "inc_pov                                            1  ...                     2\n",
              "marital                                            2  ...                     1\n",
              "rent_own_r                                         1  ...                     1\n",
              "census_region                                      1  ...                     2\n",
              "census_msa                   MSA, Not Principle City  ...               Non-MSA\n",
              "n_adult_r                                          4  ...                     2\n",
              "household_children                                 0  ...                     3\n",
              "n_people_r                                         4  ...                     5\n",
              "hhs_region                                         2  ...                     7\n",
              "behaviorals                                        0  ...                     0\n",
              "\n",
              "[31 rows x 5 columns]"
            ]
          },
          "metadata": {
            "tags": []
          },
          "execution_count": 25
        }
      ]
    },
    {
      "cell_type": "markdown",
      "metadata": {
        "id": "-an4XMKkLB42"
      },
      "source": [
        "### 2) 랜덤포레스트 모델을 적용한 후의 결과를 캐글에 제출하세요.\n",
        "- 랜덤포레스트를 적용하고 성능이 오히려 떨어졌을 수도 있습니다! 만약 그렇다면 이유를 본인 논리로 분석해 보세요.\n",
        "- **캐글 Leaderboard의 본인 Score를 과제 제출폼에 제출하세요.**"
      ]
    },
    {
      "cell_type": "code",
      "metadata": {
        "id": "DLD_eMkXLB43",
        "colab": {
          "base_uri": "https://localhost:8080/"
        },
        "outputId": "18635c98-de94-4795-a283-8e1562ad4698"
      },
      "source": [
        "%%time\n",
        "from category_encoders import OneHotEncoder\n",
        "from sklearn.ensemble import RandomForestClassifier\n",
        "from sklearn.impute import SimpleImputer \n",
        "from sklearn.pipeline import make_pipeline\n",
        "\n",
        "pipe = make_pipeline(\n",
        "    OneHotEncoder(use_cat_names=True), \n",
        "    SimpleImputer(), \n",
        "    RandomForestClassifier(n_jobs=-1, random_state=10, oob_score=True)\n",
        ")\n",
        "\n",
        "pipe.fit(X_train, y_train)\n",
        "print('검증 정확도: ', pipe.score(X_val, y_val))"
      ],
      "execution_count": 26,
      "outputs": [
        {
          "output_type": "stream",
          "text": [
            "/usr/local/lib/python3.7/dist-packages/category_encoders/utils.py:21: FutureWarning: is_categorical is deprecated and will be removed in a future version.  Use is_categorical_dtype instead\n",
            "  elif pd.api.types.is_categorical(cols):\n"
          ],
          "name": "stderr"
        },
        {
          "output_type": "stream",
          "text": [
            "검증 정확도:  0.8270667773692326\n",
            "CPU times: user 7.39 s, sys: 162 ms, total: 7.55 s\n",
            "Wall time: 4.61 s\n"
          ],
          "name": "stdout"
        }
      ]
    },
    {
      "cell_type": "code",
      "metadata": {
        "id": "FnskA-iRu7h4",
        "colab": {
          "base_uri": "https://localhost:8080/"
        },
        "outputId": "65486493-3a66-4ebf-e937-a9350a57c276"
      },
      "source": [
        "pipe.named_steps['randomforestclassifier'].oob_score_"
      ],
      "execution_count": 27,
      "outputs": [
        {
          "output_type": "execute_result",
          "data": {
            "text/plain": [
              "0.8164754025442577"
            ]
          },
          "metadata": {
            "tags": []
          },
          "execution_count": 27
        }
      ]
    },
    {
      "cell_type": "code",
      "metadata": {
        "id": "BoUrKJsQvdEa"
      },
      "source": [
        ""
      ],
      "execution_count": 27,
      "outputs": []
    },
    {
      "cell_type": "code",
      "metadata": {
        "id": "5UBQGyz0u6zn",
        "colab": {
          "base_uri": "https://localhost:8080/"
        },
        "outputId": "7f314695-0d60-4306-8d60-6ec2df56a863"
      },
      "source": [
        "#학습시키기\n",
        "model = pipe_ord.fit(X_train,y_train)\n",
        "\n",
        "y_pred = model.predict(X_test)\n",
        "target = 'vacc_h1n1_f'\n",
        "submission = sample_submission\n",
        "submission[target] = y_pred\n",
        "\n",
        "#Export\n",
        "submission.to_csv(\"./first_submission.csv\", index=False, header=1)"
      ],
      "execution_count": 28,
      "outputs": [
        {
          "output_type": "stream",
          "text": [
            "/usr/local/lib/python3.7/dist-packages/category_encoders/utils.py:21: FutureWarning: is_categorical is deprecated and will be removed in a future version.  Use is_categorical_dtype instead\n",
            "  elif pd.api.types.is_categorical(cols):\n"
          ],
          "name": "stderr"
        }
      ]
    },
    {
      "cell_type": "markdown",
      "metadata": {
        "id": "nqa9BZ9eLB43"
      },
      "source": [
        "## 🔥 도전과제"
      ]
    },
    {
      "cell_type": "markdown",
      "metadata": {
        "id": "_P0WcPJ1LB43"
      },
      "source": [
        "### 3) 수업에 사용하지 않은 다른 종류의 [category_encoders](http://contrib.scikit-learn.org/category_encoders/)을 적용해 보고 인코더에 대해 설명하세요\n"
      ]
    },
    {
      "cell_type": "code",
      "metadata": {
        "id": "AmuPiF1bLB43"
      },
      "source": [
        "### 이곳에서 과제를 진행해 주세요 ###"
      ],
      "execution_count": 29,
      "outputs": []
    },
    {
      "cell_type": "markdown",
      "metadata": {
        "id": "L_wVMWYTLB44"
      },
      "source": [
        "## 참고자료\n",
        "\n",
        "- [Random Forests for Complete Beginners](https://victorzhou.com/blog/intro-to-random-forests/)"
      ]
    }
  ]
}